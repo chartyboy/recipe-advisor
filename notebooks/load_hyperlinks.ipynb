{
 "cells": [
  {
   "cell_type": "code",
   "execution_count": 2,
   "metadata": {},
   "outputs": [
    {
     "name": "stdout",
     "output_type": "stream",
     "text": [
      "/mnt/c/Users/Alvin/Desktop/ML Test Scripts/mec-capstone/capstone_crawlers\n"
     ]
    }
   ],
   "source": [
    "import pandas as pd\n",
    "import os\n",
    "os.chdir('../capstone_crawlers')\n",
    "print(os.getcwd())\n",
    "\n",
    "import sys\n",
    "sys.path.append('../')\n",
    "sys.path.append('../capstone_crawlers/')\n",
    "sys.path.append('../capstone_crawlers/capstone_crawlers')\n",
    "\n",
    "# import torch\n",
    "# from langchain.vectorstores import Chroma\n",
    "# from langchain.llms import HuggingFacePipeline\n",
    "# from transformers import AutoTokenizer, AutoModelForCausalLM, pipeline\n",
    "# from langchain.embeddings import HuggingFaceBgeEmbeddings\n",
    "\n",
    "import scrapy\n",
    "from scrapy.crawler import CrawlerProcess, Crawler\n",
    "from scrapy.utils.project import get_project_settings\n",
    "from capstone_crawlers import settings\n",
    "from capstone_crawlers.spiders import recipe_spider\n",
    "from src.data import process_recipes\n",
    "\n",
    "# os.environ.setdefault('SCRAPY_SETTINGS_MODULE', settings.__name__)"
   ]
  },
  {
   "cell_type": "code",
   "execution_count": 2,
   "metadata": {},
   "outputs": [
    {
     "data": {
      "text/html": [
       "<div>\n",
       "<style scoped>\n",
       "    .dataframe tbody tr th:only-of-type {\n",
       "        vertical-align: middle;\n",
       "    }\n",
       "\n",
       "    .dataframe tbody tr th {\n",
       "        vertical-align: top;\n",
       "    }\n",
       "\n",
       "    .dataframe thead th {\n",
       "        text-align: right;\n",
       "    }\n",
       "</style>\n",
       "<table border=\"1\" class=\"dataframe\">\n",
       "  <thead>\n",
       "    <tr style=\"text-align: right;\">\n",
       "      <th></th>\n",
       "      <th>start_name</th>\n",
       "      <th>end_name</th>\n",
       "      <th>change</th>\n",
       "      <th>remove</th>\n",
       "      <th>add</th>\n",
       "      <th>start_url</th>\n",
       "      <th>end_url</th>\n",
       "      <th>Intermediate Reasoning</th>\n",
       "      <th>Sub Mapping</th>\n",
       "    </tr>\n",
       "  </thead>\n",
       "  <tbody>\n",
       "    <tr>\n",
       "      <th>0</th>\n",
       "      <td>Classic Risotto</td>\n",
       "      <td>Easy Brown Rice Risotto with Mushrooms and Fre...</td>\n",
       "      <td>Vegetarian</td>\n",
       "      <td>Chicken broth</td>\n",
       "      <td>Vegetable broth</td>\n",
       "      <td>https://www.delish.com/cooking/recipe-ideas/a2...</td>\n",
       "      <td>https://cookieandkate.com/easy-brown-rice-riso...</td>\n",
       "      <td>NaN</td>\n",
       "      <td>NaN</td>\n",
       "    </tr>\n",
       "    <tr>\n",
       "      <th>1</th>\n",
       "      <td>Easy Brown Rice Risotto with Mushrooms and Fre...</td>\n",
       "      <td>Classic Risotto</td>\n",
       "      <td>Add Protein</td>\n",
       "      <td>Vegetable broth</td>\n",
       "      <td>Chicken broth</td>\n",
       "      <td>https://cookieandkate.com/easy-brown-rice-riso...</td>\n",
       "      <td>https://www.delish.com/cooking/recipe-ideas/a2...</td>\n",
       "      <td>NaN</td>\n",
       "      <td>NaN</td>\n",
       "    </tr>\n",
       "    <tr>\n",
       "      <th>2</th>\n",
       "      <td>Chipotle Chili</td>\n",
       "      <td>Butternut Squash Chipotle Chili with Avocado</td>\n",
       "      <td>Vegetarian</td>\n",
       "      <td>Ground turkey or beef</td>\n",
       "      <td>Butternut squash</td>\n",
       "      <td>https://www.chilipeppermadness.com/recipes/chi...</td>\n",
       "      <td>https://cookieandkate.com/butternut-squash-chi...</td>\n",
       "      <td>NaN</td>\n",
       "      <td>NaN</td>\n",
       "    </tr>\n",
       "    <tr>\n",
       "      <th>3</th>\n",
       "      <td>Butternut Squash Chipotle Chili with Avocado</td>\n",
       "      <td>Chipotle Chili</td>\n",
       "      <td>Add Protein</td>\n",
       "      <td>Butternut squash</td>\n",
       "      <td>Ground turkey or beef</td>\n",
       "      <td>https://cookieandkate.com/butternut-squash-chi...</td>\n",
       "      <td>https://www.chilipeppermadness.com/recipes/chi...</td>\n",
       "      <td>NaN</td>\n",
       "      <td>NaN</td>\n",
       "    </tr>\n",
       "    <tr>\n",
       "      <th>4</th>\n",
       "      <td>Beef Stroganoff</td>\n",
       "      <td>Portobello Mushroom Stroganoff</td>\n",
       "      <td>Vegetarian</td>\n",
       "      <td>Ground beef</td>\n",
       "      <td>Portobello mushroom</td>\n",
       "      <td>https://www.allrecipes.com/recipe/60923/portob...</td>\n",
       "      <td>https://www.allrecipes.com/recipe/60923/portob...</td>\n",
       "      <td>NaN</td>\n",
       "      <td>NaN</td>\n",
       "    </tr>\n",
       "  </tbody>\n",
       "</table>\n",
       "</div>"
      ],
      "text/plain": [
       "                                          start_name  \\\n",
       "0                                    Classic Risotto   \n",
       "1  Easy Brown Rice Risotto with Mushrooms and Fre...   \n",
       "2                                     Chipotle Chili   \n",
       "3       Butternut Squash Chipotle Chili with Avocado   \n",
       "4                                    Beef Stroganoff   \n",
       "\n",
       "                                            end_name       change  \\\n",
       "0  Easy Brown Rice Risotto with Mushrooms and Fre...   Vegetarian   \n",
       "1                                    Classic Risotto  Add Protein   \n",
       "2       Butternut Squash Chipotle Chili with Avocado   Vegetarian   \n",
       "3                                     Chipotle Chili  Add Protein   \n",
       "4                     Portobello Mushroom Stroganoff   Vegetarian   \n",
       "\n",
       "                  remove                    add  \\\n",
       "0          Chicken broth        Vegetable broth   \n",
       "1        Vegetable broth          Chicken broth   \n",
       "2  Ground turkey or beef       Butternut squash   \n",
       "3       Butternut squash  Ground turkey or beef   \n",
       "4            Ground beef    Portobello mushroom   \n",
       "\n",
       "                                           start_url  \\\n",
       "0  https://www.delish.com/cooking/recipe-ideas/a2...   \n",
       "1  https://cookieandkate.com/easy-brown-rice-riso...   \n",
       "2  https://www.chilipeppermadness.com/recipes/chi...   \n",
       "3  https://cookieandkate.com/butternut-squash-chi...   \n",
       "4  https://www.allrecipes.com/recipe/60923/portob...   \n",
       "\n",
       "                                             end_url  Intermediate Reasoning  \\\n",
       "0  https://cookieandkate.com/easy-brown-rice-riso...                     NaN   \n",
       "1  https://www.delish.com/cooking/recipe-ideas/a2...                     NaN   \n",
       "2  https://cookieandkate.com/butternut-squash-chi...                     NaN   \n",
       "3  https://www.chilipeppermadness.com/recipes/chi...                     NaN   \n",
       "4  https://www.allrecipes.com/recipe/60923/portob...                     NaN   \n",
       "\n",
       "   Sub Mapping  \n",
       "0          NaN  \n",
       "1          NaN  \n",
       "2          NaN  \n",
       "3          NaN  \n",
       "4          NaN  "
      ]
     },
     "execution_count": 2,
     "metadata": {},
     "output_type": "execute_result"
    }
   ],
   "source": [
    "fpath = \"../datasets/interim/Test Cases.xlsx\"\n",
    "df = pd.read_excel(fpath)\n",
    "df.head()"
   ]
  },
  {
   "cell_type": "code",
   "execution_count": 3,
   "metadata": {},
   "outputs": [],
   "source": [
    "urls = df[['start_url','end_url']].to_dict(orient='list')\n",
    "\n",
    "# Combine start and end urls into a list\n",
    "tmp = list()\n",
    "for key in urls.keys():\n",
    "    tmp += urls[key]\n",
    "urls = list(set(tmp))"
   ]
  },
  {
   "cell_type": "code",
   "execution_count": 4,
   "metadata": {},
   "outputs": [],
   "source": [
    "os.chdir('../notebooks/')\n",
    "with open('tmp.txt','w') as f:\n",
    "    for url in urls:\n",
    "        f.write(url+'\\n')\n",
    "os.chdir('../capstone_crawlers/')"
   ]
  },
  {
   "cell_type": "code",
   "execution_count": 7,
   "metadata": {},
   "outputs": [
    {
     "name": "stdout",
     "output_type": "stream",
     "text": [
      "2023-12-03 05:25:58 [scrapy.utils.log] INFO: Scrapy 2.11.0 started (bot: capstone_crawlers)\n",
      "2023-12-03 05:25:58 [scrapy.utils.log] INFO: Versions: lxml 4.9.3.0, libxml2 2.11.5, cssselect 1.2.0, parsel 1.8.1, w3lib 2.1.2, Twisted 22.10.0, Python 3.11.6 | packaged by conda-forge | (main, Oct  3 2023, 10:40:35) [GCC 12.3.0], pyOpenSSL 23.3.0 (OpenSSL 3.2.0 23 Nov 2023), cryptography 41.0.5, Platform Linux-5.15.133.1-microsoft-standard-WSL2-x86_64-with-glibc2.35\n",
      "100%|███████████████████████████████████████████| 27/27 [00:00<00:00, 85.23it/s]\n"
     ]
    }
   ],
   "source": [
    "!scrapy crawl recipe # Outputs to ./test_recipes.jl"
   ]
  },
  {
   "cell_type": "code",
   "execution_count": 3,
   "metadata": {},
   "outputs": [
    {
     "name": "stdout",
     "output_type": "stream",
     "text": [
      "Now processing ./test_recipes.jl...\n",
      "Rows dropped: 2\n",
      "Finished processing ./test_recipes.jl, exported to ./test_recipes_cleaned.jsonl.\n"
     ]
    }
   ],
   "source": [
    "os.chdir('../notebooks')\n",
    "schema = \".recipe_name, .ingredients, [.instructions[].text]\"\n",
    "columns = [\"recipe_name\", \"ingredients\", \"instructions\"]\n",
    "fpath = [\"./test_recipes.jl\"]\n",
    "outpath = [\"./test_recipes_cleaned.jsonl\"]\n",
    "\n",
    "rp = process_recipes.RecipeProcessor(schema)\n",
    "rp.process_recipes(dict(zip(fpath, outpath)))"
   ]
  }
 ],
 "metadata": {
  "kernelspec": {
   "display_name": "lc-update",
   "language": "python",
   "name": "python3"
  },
  "language_info": {
   "codemirror_mode": {
    "name": "ipython",
    "version": 3
   },
   "file_extension": ".py",
   "mimetype": "text/x-python",
   "name": "python",
   "nbconvert_exporter": "python",
   "pygments_lexer": "ipython3",
   "version": "3.11.6"
  }
 },
 "nbformat": 4,
 "nbformat_minor": 2
}
