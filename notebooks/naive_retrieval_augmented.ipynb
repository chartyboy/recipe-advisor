{
 "cells": [
  {
   "cell_type": "markdown",
   "metadata": {},
   "source": [
    "# The LLM Pipeline"
   ]
  },
  {
   "cell_type": "code",
   "execution_count": 3,
   "metadata": {},
   "outputs": [
    {
     "name": "stdout",
     "output_type": "stream",
     "text": [
      "[Collection(name=names), Collection(name=summed), Collection(name=instructions), Collection(name=ingredients)]\n"
     ]
    }
   ],
   "source": [
    "import chromadb\n",
    "\n",
    "client = chromadb.PersistentClient(path='../chroma_db')\n",
    "print(client.list_collections())"
   ]
  },
  {
   "cell_type": "markdown",
   "metadata": {},
   "source": [
    "## Loading the models and vector stores using Langchain"
   ]
  },
  {
   "cell_type": "code",
   "execution_count": 4,
   "metadata": {},
   "outputs": [
    {
     "name": "stderr",
     "output_type": "stream",
     "text": [
      "/home/alvin/miniconda3/envs/lc-update/lib/python3.11/site-packages/tqdm/auto.py:21: TqdmWarning: IProgress not found. Please update jupyter and ipywidgets. See https://ipywidgets.readthedocs.io/en/stable/user_install.html\n",
      "  from .autonotebook import tqdm as notebook_tqdm\n"
     ]
    }
   ],
   "source": [
    "import torch\n",
    "from langchain.vectorstores import Chroma\n",
    "from langchain.llms import HuggingFacePipeline\n",
    "from transformers import AutoTokenizer, AutoModelForCausalLM, pipeline\n",
    "from langchain.embeddings import HuggingFaceBgeEmbeddings\n",
    "\n",
    "# Initialize models\n",
    "model_name = \"BAAI/bge-large-en\"\n",
    "model_kwargs = {\"device\": \"cuda\"}\n",
    "encode_kwargs = {\"normalize_embeddings\": True}\n",
    "hf = HuggingFaceBgeEmbeddings(\n",
    "    model_name=model_name, model_kwargs=model_kwargs, encode_kwargs=encode_kwargs\n",
    ")\n",
    "\n",
    "model_path = \"TheBloke/Llama-2-13B-chat-GPTQ\"\n",
    "tokenizer = AutoTokenizer.from_pretrained(model_path, use_fast=True)\n",
    "model = AutoModelForCausalLM.from_pretrained(\n",
    "    model_path, torch_dtype=torch.float16, device_map=\"auto\", revision=\"main\"\n",
    ")\n",
    "\n",
    "# Initialize Chroma\n",
    "chroma_store = Chroma(collection_name='summed', persist_directory='./chroma_db', embedding_function=hf)\n",
    "\n",
    "pipe = pipeline(\n",
    "    \"text-generation\",\n",
    "    model=model,\n",
    "    tokenizer=tokenizer,\n",
    "    max_new_tokens=1024,\n",
    "    # temperature=0.00,\n",
    "    # top_p=0.95,\n",
    "    repetition_penalty=1.15,\n",
    ")\n",
    "llm = HuggingFacePipeline(pipeline=pipe)"
   ]
  },
  {
   "cell_type": "markdown",
   "metadata": {},
   "source": [
    "### Relevant documents can be retrieved from the vector store and used as context"
   ]
  },
  {
   "cell_type": "code",
   "execution_count": 5,
   "metadata": {},
   "outputs": [
    {
     "ename": "IndexError",
     "evalue": "list index out of range",
     "output_type": "error",
     "traceback": [
      "\u001b[0;31m---------------------------------------------------------------------------\u001b[0m",
      "\u001b[0;31mIndexError\u001b[0m                                Traceback (most recent call last)",
      "\u001b[1;32m/mnt/c/Users/Alvin/Desktop/ML Test Scripts/mec-capstone/notebooks/naive_retrieval_augmented.ipynb Cell 6\u001b[0m line \u001b[0;36m2\n\u001b[1;32m      <a href='vscode-notebook-cell://wsl%2Bubuntu/mnt/c/Users/Alvin/Desktop/ML%20Test%20Scripts/mec-capstone/notebooks/naive_retrieval_augmented.ipynb#W5sdnNjb2RlLXJlbW90ZQ%3D%3D?line=0'>1</a>\u001b[0m sample_recipe \u001b[39m=\u001b[39m chroma_store\u001b[39m.\u001b[39msimilarity_search(\u001b[39m\"\u001b[39m\u001b[39mChicken Noodle Soup\u001b[39m\u001b[39m\"\u001b[39m, k\u001b[39m=\u001b[39m\u001b[39m5\u001b[39m)\n\u001b[0;32m----> <a href='vscode-notebook-cell://wsl%2Bubuntu/mnt/c/Users/Alvin/Desktop/ML%20Test%20Scripts/mec-capstone/notebooks/naive_retrieval_augmented.ipynb#W5sdnNjb2RlLXJlbW90ZQ%3D%3D?line=1'>2</a>\u001b[0m test_recipe \u001b[39m=\u001b[39m chroma_store\u001b[39m.\u001b[39;49msimilarity_search(\u001b[39m'\u001b[39;49m\u001b[39mSeared Tuna\u001b[39;49m\u001b[39m'\u001b[39;49m,k\u001b[39m=\u001b[39;49m\u001b[39m1\u001b[39;49m)[\u001b[39m0\u001b[39;49m]\u001b[39m.\u001b[39mpage_content\n\u001b[1;32m      <a href='vscode-notebook-cell://wsl%2Bubuntu/mnt/c/Users/Alvin/Desktop/ML%20Test%20Scripts/mec-capstone/notebooks/naive_retrieval_augmented.ipynb#W5sdnNjb2RlLXJlbW90ZQ%3D%3D?line=2'>3</a>\u001b[0m \u001b[39mfor\u001b[39;00m doc \u001b[39min\u001b[39;00m sample_recipe:\n\u001b[1;32m      <a href='vscode-notebook-cell://wsl%2Bubuntu/mnt/c/Users/Alvin/Desktop/ML%20Test%20Scripts/mec-capstone/notebooks/naive_retrieval_augmented.ipynb#W5sdnNjb2RlLXJlbW90ZQ%3D%3D?line=3'>4</a>\u001b[0m     \u001b[39mprint\u001b[39m(doc)\n",
      "\u001b[0;31mIndexError\u001b[0m: list index out of range"
     ]
    }
   ],
   "source": [
    "sample_recipe = chroma_store.similarity_search(\"Chicken Noodle Soup\", k=5)\n",
    "test_recipe = chroma_store.similarity_search('Seared Tuna',k=1)[0].page_content\n",
    "for doc in sample_recipe:\n",
    "    print(doc)\n",
    "\n",
    "noodle_recipe = sample_recipe[0].page_content"
   ]
  },
  {
   "cell_type": "code",
   "execution_count": 6,
   "metadata": {},
   "outputs": [
    {
     "ename": "NameError",
     "evalue": "name 'noodle_recipe' is not defined",
     "output_type": "error",
     "traceback": [
      "\u001b[0;31m---------------------------------------------------------------------------\u001b[0m",
      "\u001b[0;31mNameError\u001b[0m                                 Traceback (most recent call last)",
      "\u001b[1;32m/mnt/c/Users/Alvin/Desktop/ML Test Scripts/mec-capstone/notebooks/naive_retrieval_augmented.ipynb Cell 7\u001b[0m line \u001b[0;36m1\n\u001b[0;32m----> <a href='vscode-notebook-cell://wsl%2Bubuntu/mnt/c/Users/Alvin/Desktop/ML%20Test%20Scripts/mec-capstone/notebooks/naive_retrieval_augmented.ipynb#W6sdnNjb2RlLXJlbW90ZQ%3D%3D?line=0'>1</a>\u001b[0m \u001b[39mprint\u001b[39m(noodle_recipe)\n",
      "\u001b[0;31mNameError\u001b[0m: name 'noodle_recipe' is not defined"
     ]
    }
   ],
   "source": [
    "print(noodle_recipe)"
   ]
  },
  {
   "cell_type": "code",
   "execution_count": 5,
   "metadata": {},
   "outputs": [
    {
     "name": "stdout",
     "output_type": "stream",
     "text": [
      "Recipe Name: Asian Sesame Seared or Grilled Tuna (Gluten Free), Ingredients: 0.25 cup tamari (gluten-free soy sauce), 0.25 cup sesame oil, 2 tablespoons mirin (Japanese sweet wine), 2 tablespoons honey, 2 tablespoons rice wine vinegar, 2 tablespoons grated fresh ginger, 2 green onions, thinly sliced, divided, 2 cloves garlic, minced, or more to taste, 4 (6 ounce) tuna steaks, 2 tablespoons sesame seeds, or to taste, 1 tablespoon olive oil, Cooking Instructions: Whisk tamari, sesame oil, mirin, honey, vinegar, ginger, green onions, and garlic together in a bowl until marinade is evenly mixed. Place tuna steaks in the marinade and refrigerate for at least 1 hour., Spread sesame seeds onto a plate. Remove tuna from marinade and discard marinade. Press tuna into sesame seeds until evenly coated., Heat olive oil in a cast iron skillet over high heat until very hot; cook tuna in the hot oil until cooked to desired doneness, 30 seconds to 5 minutes per side., \n"
     ]
    }
   ],
   "source": [
    "print(test_recipe)"
   ]
  },
  {
   "cell_type": "code",
   "execution_count": 6,
   "metadata": {},
   "outputs": [
    {
     "name": "stdout",
     "output_type": "stream",
     "text": [
      "Recipe Name: Too Much Chocolate Cake, Ingredients: 1 (18.25 ounce) package devil's food cake mix, 1 (5.9 ounce) package instant chocolate pudding mix, 1 cup sour cream, 1 cup vegetable oil, 0.5 cup warm water, 4 eggs, 2 cups semisweet chocolate chips, Cooking Instructions: Preheat the oven to 350 degrees F (175 degrees C). Generously grease a 12-cup Bundt pan., Mix together cake mix, pudding mix, sour cream, oil, water, and eggs in a large bowl until well-blended., Stir in chocolate chips., Pour batter into the prepared Bundt pan., Bake in the preheated oven until top is springy to the touch and a toothpick inserted into center of cake comes out clean, 50 to 55 minutes., Cool cake thoroughly in the pan for at least 1 1/2 hours before inverting it onto a plate. Sprinkle powdered sugar on top if desired., Enjoy!, \n"
     ]
    }
   ],
   "source": [
    "irrelevant_recipe = chroma_store.similarity_search(\"Chocolate Cake\", k=1)[0].page_content\n",
    "print(irrelevant_recipe)"
   ]
  },
  {
   "cell_type": "markdown",
   "metadata": {},
   "source": [
    "### The LLM chain inserts these documents into the input prompt as additional context. "
   ]
  },
  {
   "cell_type": "code",
   "execution_count": 7,
   "metadata": {},
   "outputs": [
    {
     "name": "stderr",
     "output_type": "stream",
     "text": [
      "/home/alvin/miniconda3/envs/langchain/lib/python3.11/site-packages/transformers/generation/utils.py:1421: UserWarning: You have modified the pretrained model configuration to control generation. This is a deprecated strategy to control generation and will be removed soon, in a future version. Please use and modify the model generation configuration (see https://huggingface.co/docs/transformers/generation_strategies#default-text-generation-configuration )\n",
      "  warnings.warn(\n"
     ]
    },
    {
     "name": "stdout",
     "output_type": "stream",
     "text": [
      "To substitute chicken for seared tuna in this recipe, you can follow these steps:\n",
      "\n",
      "1. Replace the 1 (4 pound) whole chicken with 1 (4 pound) piece of seared tuna.\n",
      "2. Keep all the vegetables and seasonings the same, except for the chicken broth, which will now be used as a marinade for the tuna.\n",
      "3. Marinate the tuna in the chicken broth, along with the lemongrass, bay leaves, and peppercorns, for at least 1 hour in the refrigerator.\n",
      "4. Before cooking the tuna, remove it from the marinade and pat it dry with paper towels to remove excess moisture.\n",
      "5. In step 3 of the original recipe, use a skillet or cast-iron pan to sear the tuna over high heat for 30 seconds to 5 minutes per side, or until it reaches your desired level of doneness.\n",
      "6. Once the tuna is cooked, add it to the pot with the vegetables and noodles, and simmer for an additional 10 minutes to allow the flavors to meld together.\n",
      "\n",
      "By following these steps, you will have successfully substituted chicken for seared tuna in this recipe, resulting in a delicious and hearty chicken noodle soup. Enjoy!\n"
     ]
    }
   ],
   "source": [
    "template = f\"\"\"\n",
    "You are a helpful, respectful and honest assistant. Always answer as helpfully as possible.\n",
    "\n",
    "If a question does not make any sense, or is not factually coherent, explain why instead of answering something not correct. If you don't know the answer to a question, please don't share false information.\n",
    "\n",
    "### Instruction:\n",
    "Use the following pieces of context to answer the question at the end. If you don't know the answer, just say that you don't know, don't try to make up an answer.\n",
    "{test_recipe}\n",
    "\n",
    "### Input:\n",
    "How would you rewrite this recipe for chicken noodle soup in order to substitute chicken for seared tuna? Please provide your answer in the form of an informative cooking recipe.\n",
    "{noodle_recipe}\n",
    "\n",
    "### Response:\n",
    "\"\"\"\n",
    "\n",
    "test_result = llm(template)\n",
    "print(test_result)"
   ]
  },
  {
   "cell_type": "markdown",
   "metadata": {},
   "source": [
    "#### The structure of the response can be manipulated by providing the LLM with the start of the expected answer. Here, this is achieved by appending \"Recipe Name:\" to the end of the input query. The LLM will use this template and the inserted recipes (which have a very similar form) to generate an output that looks like a recipe you might find on the internet."
   ]
  },
  {
   "cell_type": "code",
   "execution_count": 8,
   "metadata": {},
   "outputs": [
    {
     "name": "stdout",
     "output_type": "stream",
     "text": [
      "Asian Sesame Seared or Grilled Tuna (Gluten Free)\n",
      "\n",
      "To incorporate seared tuna into the existing chicken noodle soup recipe, you can follow these steps:\n",
      "\n",
      "Step 1: Prepare the tuna marinade by whisking together 0.25 cup tamari (gluten-free soy sauce), 0.25 cup sesame oil, 2 tablespoons mirin (Japanese sweet wine), 2 tablespoons honey, 2 tablespoons rice wine vinegar, 2 tablespoons grated fresh ginger, 2 green onions, thinly sliced, divided, 2 cloves garlic, minced, or more to taste, in a bowl until well combined.\n",
      "\n",
      "Step 2: In a separate bowl, mix together 1 pound carrots, 0.66666668653488 bunch celery, trimmed, 1 large onion, peeled and halved, 3 tablespoons chopped lemongrass, 3 large bay leaves, 10 whole black peppercorns, and 1 pound carrots, peeled and sliced, in a large stockpot.\n",
      "\n",
      "Step 3: Add 1 (4 pound) whole chicken, cut into pieces, to the stockpot and pour in 1 gallon water. Bring to a boil over high heat, then reduce the heat, cover, and simmer for 30 minutes, or until the chicken is cooked through and the juices run clear.\n",
      "\n",
      "Step 4: Remove the chicken from the pot and let it cool before shredding the meat into bite-sized pieces. Set aside.\n",
      "\n",
      "Step 5: Add 4 (6 ounce) tuna steaks to the pot and cook for 30 seconds to 5 minutes per side, or until the tuna is seared and cooked to your liking.\n",
      "\n",
      "Step 6: While the tuna is cooking, prepare the sesame seed crust by spreading 2 tablespoons sesame seeds onto a plate. Remove the tuna from the pot and place it onto the sesame seed crust, pressing the fish into the seeds to coat evenly.\n",
      "\n",
      "Step 7: Serve the tuna in the chicken noodle soup along with the cooked noodles, carrots, celery, and other vegetables. Enjoy!\n"
     ]
    }
   ],
   "source": [
    "template = f\"\"\"\n",
    "You are a helpful, respectful and honest assistant. Always answer as helpfully as possible.\n",
    "\n",
    "If a question does not make any sense, or is not factually coherent, explain why instead of answering something not correct. If you don't know the answer to a question, please don't share false information.\n",
    "\n",
    "### Instruction:\n",
    "Use the following pieces of context to answer the question at the end. If you don't know the answer, just say that you don't know, don't try to make up an answer.\n",
    "{test_recipe}\n",
    "\n",
    "### Input:\n",
    "How would you rewrite this recipe for chicken noodle soup in order to add seared tuna? Please provide your answer in the form of an informative cooking recipe.\n",
    "{noodle_recipe}\n",
    "\n",
    "### Response: Recipe Name:\n",
    "\"\"\"\n",
    "\n",
    "print(llm(template))"
   ]
  },
  {
   "cell_type": "markdown",
   "metadata": {},
   "source": [
    "#### What would happen if a recipe irrelevant to the input query was provided? The LLM will ignore the information in the recipe and fall back on the knowledge base it was trained on. Prompting the structure answer by appending \"Recipe Name:\" still achieves the desired effect."
   ]
  },
  {
   "cell_type": "code",
   "execution_count": 9,
   "metadata": {},
   "outputs": [
    {
     "name": "stdout",
     "output_type": "stream",
     "text": [
      "To make this delicious chicken noodle soup with seared tuna instead of chicken, simply follow these steps:\n",
      "\n",
      "Ingredients:\n",
      "\n",
      "* 1 (4 pound) piece of sushi-grade tuna, cut into pieces\n",
      "* 1 gallon water\n",
      "* 1 pound whole carrots, peeled and sliced\n",
      "* 0.66666668653488 bunch celery, trimmed\n",
      "* 1 large onion, peeled and halved\n",
      "* 3 tablespoons chopped lemongrass\n",
      "* 3 large bay leaves\n",
      "* 10 whole black peppercorns\n",
      "* 1 pound carrots, peeled and sliced\n",
      "* 0.33333334326744 bunch celery with leaves, sliced\n",
      "* 0.25 cup tuna soup base (available at most Asian grocery stores)\n",
      "* 1 (8 ounce) package dry egg noodles\n",
      "\n",
      "Cooking Instructions:\n",
      "\n",
      "1. Place tuna into a large stockpot and pour in water. Bring to a boil over high heat.\n",
      "2. Reduce the heat, cover, and simmer for 30 minutes, or until the tuna is cooked through and flakes easily with a fork.\n",
      "3. Add whole carrots, whole celery, onion half, lemongrass, bay leaves, and peppercorns. Cover and simmer for 1 hour; the tuna should be opaque and the juices should run clear. An instant-read thermometer inserted into the thickest part of the tuna should read 165°F (74°C).\n",
      "4. Transfer the tuna to a platter and let it cool until it is safe to handle. Strain the stock, discarding the solids.\n",
      "5. Return the strained stock to the pot and add the sliced carrots, sliced celery (not the leaves), and tuna soup base. Bring to a boil, then reduce the heat, cover, and simmer until the carrots are tender, about 20 minutes.\n",
      "6. Meanwhile, chop the cooled tuna into bite-sized pieces.\n",
      "7. Add the noodles and celery leaves to the pot; simmer until the noodles are tender yet firm to the bite, about 10 minutes. Stir in the tuna and cook until heated through, 3 to 5 minutes.\n",
      "\n",
      "Enjoy your delicious tuna noodle soup!\n"
     ]
    }
   ],
   "source": [
    "template = f\"\"\"\n",
    "You are a helpful, respectful and honest assistant. Always answer as helpfully as possible.\n",
    "\n",
    "If a question does not make any sense, or is not factually coherent, explain why instead of answering something not correct. If you don't know the answer to a question, please don't share false information.\n",
    "\n",
    "### Instruction:\n",
    "Use the following pieces of context to answer the question at the end. If you don't know the answer, just say that you don't know, don't try to make up an answer.\n",
    "{irrelevant_recipe}\n",
    "\n",
    "### Input:\n",
    "How would you rewrite this recipe for chicken noodle soup in order to substitute chicken for seared tuna? Please provide your answer in the form of an informative cooking recipe.\n",
    "{noodle_recipe}\n",
    "\n",
    "### Response:\n",
    "\"\"\"\n",
    "\n",
    "print(llm(template))"
   ]
  },
  {
   "cell_type": "code",
   "execution_count": 10,
   "metadata": {},
   "outputs": [
    {
     "name": "stdout",
     "output_type": "stream",
     "text": [
      " Tasty Tuna Chicken Noodle Soup, Ingredients: 1 (4 pound) whole chicken, cut into pieces, 1 gallon water, 1 pound whole carrots, 0.66666668653488 bunch celery, trimmed, 1 large onion, peeled and halved, 3 tablespoons chopped lemongrass, 3 large bay leaves, 10 whole black peppercorns, 1 pound carrots, peeled and sliced, 0.33333334326744 bunch celery with leaves, sliced, divided, 0.25 cup chicken soup base, 1 (8 ounce) package dry egg noodles, Cooking Instructions: Place chicken into a large stockpot and pour in water. Bring to a boil over high heat. Reduce the heat, cover, and simmer, skimming fat as needed, for 30 minutes. Add whole carrots, whole celery, onion half, lemongrass, bay leaves, and peppercorns. Cover and simmer for 1 hour; chicken should no longer be pink at the bone and the juices should run clear. An instant-read thermometer inserted into the thickest part of the thigh, near the bone, should read 165 degrees F (74 degrees C)., Transfer chicken to a platter and let sit until cool enough to handle. Strain stock, discarding solids., Return strained stock to the pot and set over high heat. Stir in sliced carrots, sliced celery (not the leaves), and chicken base. Bring to a boil, then reduce the heat, cover, and simmer until carrots are tender, about 20 minutes., Meanwhile, remove and discard skin from cooled chicken. Chop meat into bite-sized pieces., Add noodles and celery leaves to the pot; simmer until noodles are tender yet firm to the bite, about 10 minutes. Stir in chicken and cook until heated through, 3 to 5 minutes., Add 0.5 cup of seared tuna steaks to the pot during the last 5 minutes of cooking. Serve hot with additional chopped scallions and soy sauce if desired., \n"
     ]
    }
   ],
   "source": [
    "template = f\"\"\"\n",
    "You are a helpful, respectful and honest assistant. Always answer as helpfully as possible.\n",
    "\n",
    "If a question does not make any sense, or is not factually coherent, explain why instead of answering something not correct. If you don't know the answer to a question, please don't share false information.\n",
    "\n",
    "### Instruction:\n",
    "Use the following pieces of context to answer the question at the end. If you don't know the answer, just say that you don't know, don't try to make up an answer.\n",
    "{irrelevant_recipe}\n",
    "\n",
    "### Input:\n",
    "How would you rewrite this recipe for chicken noodle soup in order to add seared tuna? Please provide your answer in the form of an informative cooking recipe.\n",
    "{noodle_recipe}\n",
    "\n",
    "### Response:\n",
    "Recipe Name:\"\"\"\n",
    "\n",
    "\n",
    "print(llm(template))"
   ]
  },
  {
   "cell_type": "markdown",
   "metadata": {},
   "source": [
    "#### The response from the first LLM query can be fed back into the LLM with a different template to create the final, modified recipe."
   ]
  },
  {
   "cell_type": "code",
   "execution_count": 11,
   "metadata": {},
   "outputs": [
    {
     "name": "stdout",
     "output_type": "stream",
     "text": [
      "Awesome Tuna Noodle Soup\n",
      "\n",
      "Ingredients:\n",
      "\n",
      "* 1 (4 pound) piece of seared tuna, cut into bite-sized pieces\n",
      "* 1 gallon water\n",
      "* 1 pound whole carrots, peeled and sliced\n",
      "* 0.66666668653488 bunch celery, trimmed, sliced (not the leaves)\n",
      "* 1 large onion, peeled and halved\n",
      "* 3 tablespoons chopped lemongrass\n",
      "* 3 large bay leaves\n",
      "* 10 whole black peppercorns\n",
      "* 1 pound carrots, peeled and sliced\n",
      "* 0.33333334326744 bunch celery with leaves, sliced, divided\n",
      "* 0.25 cup tuna broth base\n",
      "* 1 (8 ounce) package dry egg noodles\n",
      "\n",
      "Cooking Instructions:\n",
      "\n",
      "1. Place tuna into a large stockpot and pour in water. Bring to a boil over high heat.\n",
      "2. Reduce the heat, cover, and simmer for 1 hour; tuna should be opaque and flake easily with a fork.\n",
      "3. Remove tuna from the pot and let it rest for 10 minutes before cutting it into bite-sized pieces.\n",
      "4. Strain the liquid from the pot and discard any solids.\n",
      "5. Return the strained liquid to the pot and stir in sliced carrots, sliced celery, lemongrass, bay leaves, and peppercorns.\n",
      "6. Bring the mixture to a boil, then reduce the heat, cover, and simmer for 20 minutes, or until the carrots are tender.\n",
      "7. Add noodles and celery leaves to the pot; simmer for 10 minutes, or until the noodles are tender yet firm to the bite.\n",
      "8. Stir in the tuna and cook for an additional 5 minutes, or until the tuna is heated through.\n",
      "9. Serve hot, garnished with chopped scallions and a dollop of soy sauce, if desired.\n"
     ]
    }
   ],
   "source": [
    "modify_template = f\"\"\"\n",
    "You are a helpful, respectful and honest assistant. Always answer as helpfully as possible.\n",
    "\n",
    "If a question does not make any sense, or is not factually coherent, explain why instead of answering something not correct. If you don't know the answer to a question, please don't share false information.\n",
    "\n",
    "### Instruction:\n",
    "Use the following pieces of context to answer the question at the end. If you don't know the answer, just say that you don't know, don't try to make up an answer.\n",
    "{noodle_recipe}\n",
    "\n",
    "### Input:\n",
    "Rewrite this recipe to include the modifications provided.\n",
    "{test_result}\n",
    "\n",
    "### Response: Recipe Name:\n",
    "\"\"\"\n",
    "\n",
    "print(llm(modify_template))"
   ]
  },
  {
   "cell_type": "markdown",
   "metadata": {},
   "source": [
    "### Intermediate chain-of-thought and few-shot examples"
   ]
  },
  {
   "cell_type": "code",
   "execution_count": null,
   "metadata": {},
   "outputs": [],
   "source": [
    "fewshot_cot_template = f\"\"\"\n",
    "You are a helpful, respectful and honest assistant. Always answer as helpfully as possible.\n",
    "\n",
    "If a question does not make any sense, or is not factually coherent, explain why instead of answering something not correct. If you don't know the answer to a question, please don't share false information.\n",
    "\n",
    "### Instruction:\n",
    "Use the following examples to answer the question at the end. If you don't know the answer, just say that you don't know, don't try to make up an answer.\n",
    "\n",
    "Input: How this recipe for chicken noodle soup be rewritten to use seared tuna instead of chicken?\n",
    "{noodle_recipe}\n",
    "Chicken needs to be substituted for tuna, so it should be removed from the ingredient list and replaced with an equal amount of tuna. Now that chicken is no longer in the ingredient list,\n",
    "the recipe instructions that reference chicken need to be adjusted to include tuna instead.\n",
    "\n",
    "### Input:\n",
    "Rewrite this recipe to include the modifications provided.\n",
    "{test_result}\n",
    "\n",
    "### Response: Recipe Name:\n",
    "\"\"\""
   ]
  },
  {
   "cell_type": "markdown",
   "metadata": {},
   "source": [
    "### Implementing the LLM chain in Langchain"
   ]
  },
  {
   "cell_type": "code",
   "execution_count": null,
   "metadata": {},
   "outputs": [],
   "source": [
    "from langchain.prompts import PromptTemplate\n",
    "from langchain.chains import RetrievalQA, StuffDocumentsChain, LLMChain\n",
    "template_llm = \"\"\"\n",
    "You are a helpful, respectful and honest assistant. Always answer as helpfully as possible.\n",
    "\n",
    "If a question does not make any sense, or is not factually coherent, explain why instead of answering something not correct. If you don't know the answer to a question, please don't share false information.\n",
    "\n",
    "### Instruction:\n",
    "Use the following pieces of context to answer the question at the end. If you don't know the answer, just say that you don't know, don't try to make up an answer.\n",
    "{context}\n",
    "\n",
    "### Input:\n",
    "{question}\n",
    "\n",
    "### Response:\n",
    "\\n\n",
    "\"\"\"\n",
    "prompt = PromptTemplate(template=template_llm, input_variables=[\"context\", \"question\"])\n",
    "document_prompt = PromptTemplate(\n",
    "    input_variables=[\"page_content\"], template=\"{page_content}\"\n",
    ")\n",
    "\n",
    "recipe_retriever = chroma_store.as_retriever(search_kwargs={\"k\": 1})\n",
    "\n",
    "analyze_and_modify = RetrievalQA.from_chain_type(\n",
    "    llm=llm,\n",
    "    chain_type=\"stuff\",\n",
    "    retriever=recipe_retriever,\n",
    "    chain_type_kwargs={\n",
    "        \"prompt\": prompt,\n",
    "        \"document_variable_name\": \"context\",\n",
    "        \"document_prompt\": document_prompt,\n",
    "    },\n",
    ")"
   ]
  },
  {
   "cell_type": "code",
   "execution_count": null,
   "metadata": {},
   "outputs": [],
   "source": [
    "## Move cell to separate notebook\n",
    "import torch\n",
    "\n",
    "from langchain.embeddings import HuggingFaceBgeEmbeddings, HuggingFaceEmbeddings\n",
    "from langchain.vectorstores import Chroma\n",
    "from langchain.chains import RetrievalQA, StuffDocumentsChain, LLMChain\n",
    "from langchain.memory import ConversationBufferMemory\n",
    "from langchain.prompts import PromptTemplate\n",
    "from langchain.llms import HuggingFacePipeline\n",
    "from transformers import AutoTokenizer, AutoModelForCausalLM, pipeline\n",
    "\n",
    "# Load embeddings\n",
    "model_name = \"BAAI/bge-large-en\"\n",
    "model_kwargs = {\"device\": \"cuda\"}\n",
    "encode_kwargs = {\"normalize_embeddings\": False}\n",
    "\n",
    "hf = HuggingFaceBgeEmbeddings(\n",
    "    model_name=model_name, model_kwargs=model_kwargs, encode_kwargs=encode_kwargs\n",
    ")\n",
    "\n",
    "db = Chroma(persist_directory=\"./chroma_db\", embedding_function=hf)\n",
    "\n",
    "# Load llm\n",
    "model_path = \"TheBloke/Llama-2-13B-chat-GPTQ\"\n",
    "tokenizer = AutoTokenizer.from_pretrained(model_path, use_fast=True)\n",
    "model = AutoModelForCausalLM.from_pretrained(\n",
    "    model_path, torch_dtype=torch.float16, device_map=\"auto\", revision=\"main\"\n",
    ")\n",
    "pipe = pipeline(\n",
    "    \"text-generation\",\n",
    "    model=model,\n",
    "    tokenizer=tokenizer,\n",
    "    max_new_tokens=512,\n",
    "    temperature=0.1,\n",
    "    top_p=0.95,\n",
    "    repetition_penalty=1.15,\n",
    ")\n",
    "llm = HuggingFacePipeline(pipeline=pipe)\n",
    "# Initialize chain components\n",
    "db_retriever = db.as_retriever()\n",
    "\n",
    "# Question param is hardcoded in source\n",
    "# Template used in Llama fine-tuning\n",
    "template = \"\"\"\n",
    "Below is an instruction that describes a task, paired with an input that provides further context. Write a response that appropriately completes the request.\n",
    "\n",
    "### Instruction:\n",
    "{question}\n",
    "\n",
    "### Input:\n",
    "{context}\n",
    "\n",
    "### Response:\n",
    "\\n\n",
    "\"\"\"\n",
    "prompt = PromptTemplate(template=template, input_variables=[\"context\", \"question\"])\n",
    "document_prompt = PromptTemplate(\n",
    "    input_variables=[\"page_content\"], template=\"{page_content}\"\n",
    ")\n",
    "\n",
    "qa = RetrievalQA.from_chain_type(\n",
    "    llm=llm,\n",
    "    chain_type=\"stuff\",\n",
    "    retriever=db_retriever,\n",
    "    chain_type_kwargs={\n",
    "        \"prompt\": prompt,\n",
    "        \"document_variable_name\": \"context\",\n",
    "        \"document_prompt\": document_prompt,\n",
    "    },\n",
    ")\n",
    "\n",
    "# Query param used for retrieval and insertion into question param in prompt\n",
    "res = qa.run(query=\"How can I add artichokes to my chicken noodle soup?\")\n",
    "print(res)"
   ]
  }
 ],
 "metadata": {
  "kernelspec": {
   "display_name": "langchain",
   "language": "python",
   "name": "python3"
  },
  "language_info": {
   "codemirror_mode": {
    "name": "ipython",
    "version": 3
   },
   "file_extension": ".py",
   "mimetype": "text/x-python",
   "name": "python",
   "nbconvert_exporter": "python",
   "pygments_lexer": "ipython3",
   "version": "3.11.6"
  },
  "orig_nbformat": 4
 },
 "nbformat": 4,
 "nbformat_minor": 2
}
