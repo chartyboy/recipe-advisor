{
 "cells": [
  {
   "cell_type": "markdown",
   "metadata": {},
   "source": [
    "# Retrieval Augmented Generation with LLMs\n",
    "This notebook demonstrates the process of implementing retrieval-augmented generation (RAG) with\n",
    "Langchain LLMs."
   ]
  },
  {
   "cell_type": "markdown",
   "metadata": {},
   "source": [
    "# The LLM Pipeline"
   ]
  },
  {
   "cell_type": "code",
   "execution_count": 1,
   "metadata": {},
   "outputs": [
    {
     "name": "stdout",
     "output_type": "stream",
     "text": [
      "[Collection(name=summed), Collection(name=instruction), Collection(name=ingredient), Collection(name=name)]\n"
     ]
    }
   ],
   "source": [
    "import chromadb\n",
    "\n",
    "client = chromadb.PersistentClient(path='../datasets/processed/chroma_db')\n",
    "print(client.list_collections())"
   ]
  },
  {
   "cell_type": "markdown",
   "metadata": {},
   "source": [
    "## Loading the models and vector stores using Langchain"
   ]
  },
  {
   "cell_type": "code",
   "execution_count": 2,
   "metadata": {},
   "outputs": [
    {
     "name": "stderr",
     "output_type": "stream",
     "text": [
      "/home/alvin/miniconda3/envs/lc-update/lib/python3.11/site-packages/tqdm/auto.py:21: TqdmWarning: IProgress not found. Please update jupyter and ipywidgets. See https://ipywidgets.readthedocs.io/en/stable/user_install.html\n",
      "  from .autonotebook import tqdm as notebook_tqdm\n"
     ]
    }
   ],
   "source": [
    "import torch\n",
    "from langchain.vectorstores import Chroma\n",
    "from langchain.llms import HuggingFacePipeline\n",
    "from transformers import AutoTokenizer, AutoModelForCausalLM, pipeline\n",
    "from langchain.embeddings import HuggingFaceBgeEmbeddings\n",
    "\n",
    "# Initialize models\n",
    "model_name = \"BAAI/bge-large-en\"\n",
    "model_kwargs = {\"device\": \"cuda\"}\n",
    "encode_kwargs = {\"normalize_embeddings\": True}\n",
    "hf = HuggingFaceBgeEmbeddings(\n",
    "    model_name=model_name, model_kwargs=model_kwargs, encode_kwargs=encode_kwargs\n",
    ")\n",
    "\n",
    "model_path = \"TheBloke/Llama-2-13B-chat-GPTQ\"\n",
    "tokenizer = AutoTokenizer.from_pretrained(model_path, use_fast=True)\n",
    "model = AutoModelForCausalLM.from_pretrained(\n",
    "    model_path, torch_dtype=torch.float16, device_map=\"auto\", revision=\"main\"\n",
    ")\n",
    "\n",
    "# Initialize Chroma\n",
    "chroma_store = Chroma(collection_name='summed', persist_directory='../datasets/processed/chroma_db', embedding_function=hf)\n",
    "\n",
    "pipe = pipeline(\n",
    "    \"text-generation\",\n",
    "    model=model,\n",
    "    tokenizer=tokenizer,\n",
    "    max_new_tokens=1024,\n",
    "    # temperature=0.00,\n",
    "    # top_p=0.95,\n",
    "    repetition_penalty=1.15,\n",
    ")\n",
    "llm = HuggingFacePipeline(pipeline=pipe)"
   ]
  },
  {
   "cell_type": "markdown",
   "metadata": {},
   "source": [
    "### Relevant documents can be retrieved from the vector store and used as context"
   ]
  },
  {
   "cell_type": "code",
   "execution_count": 9,
   "metadata": {},
   "outputs": [
    {
     "name": "stdout",
     "output_type": "stream",
     "text": [
      "page_content='Recipe Name: Chocolate-Glazed Pound Cake, \\nIngredients: , \\nCooking Instructions: 1. Microwave 6 ounces chopped bittersweet chocolate with 1 stick cut-up butter and 1 tablespoon honey on 75 percent power until melted, about 2 minutes. Whisk until smooth. Place a loaf of pound cake on a rack and drizzle with the glaze., '\n",
      "page_content='Recipe Name: Instant Chocolate Cake, \\nIngredients: , \\nCooking Instructions: 1. Whisk 1/4 cup flour, 5 tablespoons sugar, 2 tablespoons cocoa powder, 1 egg, 3 tablespoons milk, 3 tablespoons vegetable oil and a dash of vanilla extract and salt in a large mug until smooth. Microwave until puffed, about 2 minutes.\\n2. Copyright (c)2011 Food Network Magazine, LLC. Published by Hyperion. Available wherever books are sold. All Rights Reserved. Photograph courtesy of Antonis Achilleos., '\n",
      "page_content='Recipe Name: Chocolate-Marshmallow Mug Cakes, \\nIngredients: , \\nCooking Instructions: 1. To make a batch, whisk 1/2 cup each sugar and buttermilk, 1/4 cup vegetable oil, 1 egg and 1/2 teaspoon vanilla in a large bowl until smooth. Whisk in 1⁄3 cup flour, 2 tablespoons unsweetened cocoa powder, 1/8 teaspoon baking soda and a pinch of salt. Butter 4 small microwave-safe mugs and divide the batter among them. Microwave, one at a time, until a toothpick comes out clean, about 2 minutes. Make a slit in the center of each cake and pipe marshmallow cream into the slit. Top the cake with warmed chocolate frosting, then pipe white frosting squiggles on top., '\n",
      "page_content='Recipe Name: Working with Chocolate by Jacques Torres, \\nIngredients: , \\nCooking Instructions: 1. Melting Chocolate:\\n2. Chocolate melts best at temperatures between 104 and 113 degrees F (40 and 45 C). Never melt chocolate directly over a heat source. Use an indirect heat source like a hot water bath so the chocolate reaches a temperature of 104 to 113 degrees F (40 to 45 C). This is the perfect temperature to begin tempering.\\n3. Tempering Chocolate:\\n4. Tempering is important because it determines the final gloss, hardness, and contraction of the chocolate. When you melt chocolate, the molecules of fat separate. In order to put them back together, you temper it. There are a variety of ways to do it.\\n5. One of the easiest ways to temper it is to place it in the microwave for 30 seconds at a time on high power until the chocolate is melted. Be very careful not to overheat it. Be careful; the chocolate will not look like it has melted because it retains its shape. The chocolate should be only slightly warmer than your bottom lip. You may still see lumps in it but, don¿t worry; the residual heat of the chocolate will melt them. You can also use an immersion blender to break up the lumps and start the recrystallization process. Usually, the chocolate begins to set (recrystallize) along the side of the bowl. As it begins to crystallize, mix those crystals into the melted chocolate and they will begin the recrystallization process. I like to use glass bowl because it retains the heat and keeps the chocolate tempered a long time.\\n6. Another way to temper chocolate is called seeding. In this method, tempering is achieved by adding small pieces of unmelted chocolate to melted chocolate. The amount of unmelted chocolate to be added depends on the temperature of the melted chocolate but is usually one fourth of the total amount. I usually use an immersion blender to mix the two together.\\n7. The classic way to temper chocolate is call tabliering. Chocolate is melted over a hot water bath to a temperature between 88 and 90 degrees F (31 to 34 C). (White and milk chocolate are melted to a temperature approximately 2 degrees F less, depending on the amount of milk fat they contain.) Two thirds of the melted chocolate is poured on a cold table or marble surface. The chocolate is spread out and worked with a spatula until the temperature of the chocolate is approximately 81 degrees F (27 C). At this stage, it is thick and begins to set. This tempered chocolate is then added to the remaining one third of non-tempered chocolate and mixed thoroughly until the mass in the bowl has a completely uniform temperature. If the temperature is still too high, part of the chocolate is further worked on the cold table until the correct temperature is reached. This is a lot of work, requires a lot of room and makes a big mess.\\n8. Checking Tempering:\\n9. A simple method of checking tempering is by applying a small quantity of chocolate to a piece of paper or to the point of a knife. If the chocolate has been correctly tempered it will harden evenly and show a good gloss within 5 minutes.\\n10. Storing Chocolate:\\n11. You need to use enough to make it easy to work with so you will always have extra chocolate in molding most of these recipes. Chocolate is susceptible to moisture and absorbs external odors. It is also important to protect it from light and air. Store it in a cool dry place in closed packaging. The ideal temperature for storing chocolate is between 54 and 68 degrees F (12 and 20 C). Do not store chocolate in the refrigerator where the humidity (moisture) will affect it.\\n12. A soft white layer on the surface of chocolate is called fatbloom. It is caused when a thin layer of fat crystals forms on the surface of the chocolate. Storage at a constant temperature will delay the appearance of fatbloom.\\n13. Sugarbloom is a rough and irregular layer on top of the chocolate caused by condensation (when chocolate is taken out of the refrigerator). This moisture will dissolve the sugar in the chocolate. When the water evaporates, the sugar recrystallizes into rough, irregular crystals on the surface and gives the chocolate an unpleasant look. Prevent sugarbloom by preventing temperature shocks., '\n",
      "page_content='Recipe Name: Chocolate Frosting, \\nIngredients: , \\nCooking Instructions: 1. Beat 3 sticks softened butter and 1/4 teaspoon salt with a mixer on medium-high speed until fluffy, 2 minutes. Gradually beat in 1 1/2 cups confectioners’ sugar on low speed until combined.\\n2. Add 2 tablespoons unsweetened cocoa powder and 2 teaspoons vanilla and beat on medium-high speed until fluffy, about 3 minutes. Beat in 6 ounces cooled melted semisweet chocolate until smooth and fluffy, 2 to 3 more minutes.\\xa0\\n3. Spread the frosting on the cake. Refrigerate 30 minutes before serving., '\n"
     ]
    }
   ],
   "source": [
    "sample_recipe = chroma_store.similarity_search(\"Chicken Noodle Soup\", k=5)\n",
    "test_recipe = chroma_store.similarity_search('Seared Tuna',k=1)[0].page_content\n",
    "for doc in sample_recipe:\n",
    "    print(doc)\n",
    "\n",
    "noodle_recipe = sample_recipe[0].page_content"
   ]
  },
  {
   "cell_type": "code",
   "execution_count": 4,
   "metadata": {},
   "outputs": [
    {
     "name": "stdout",
     "output_type": "stream",
     "text": [
      "Recipe Name: Chicken Noodle Soup, \n",
      "Ingredients: 3 liters (about 12 1/2 cups) Chicken Stock, recipe follows, 2 chicken breasts (about 450 grams/1 pound), 2 teaspoons olive oil, 1/4 red or yellow onion, diced, 2 carrots, peeled and cut into 1-centimeter (about 1/2-inch) rounds, 1 stalk celery, cut into 1-centimeter (about 1/2-inch) slices, 1/4 fennel bulb, diced, Kosher salt, Freshly ground black pepper, 1 garlic clove, minced, 1/4 teaspoon turmeric, 1 1/2 cups broad egg noodles, 2 small handfuls Swiss chard or kale, stems removed and roughly chopped, 1/2 lemon, juiced, 2 tablespoons finely chopped dill, parsley or fennel fronds, 1 1/4 to 1 1/2 kilograms whole chicken carcasses (2 3/4 to 3 1/3 pounds), 3 celery stalks, 3 medium carrots, 1 large yellow onion, 1/2 head of garlic, 1 handful parsley stalks, 5 sprigs thyme, 2 bay leaves, 1 teaspoon black peppercorns, 2 teaspoon kosher salt, \n",
      "Cooking Instructions: 1. Pour the chicken stock into a large saucepan and add in the chicken breasts. Place over medium-high heat and bring to a boil. Reduce to a simmer and cook, uncovered, for 5 minutes. Remove the pot from the heat, cover and let sit for 15 minutes, or until the chicken is cooked through. Remove the chicken from the stock and set aside to rest.\n",
      "2. Meanwhile, in another saucepan, heat the oil over medium heat and add in the onion, carrots, celery and fennel. Season with salt and pepper and cook until lightly golden, about 3 to 5 minutes. Stir in the garlic and turmeric and cook for 30 seconds before carefully pouring in the hot chicken stock. Turn the heat up to high, bring to a boil and cook until the vegetables are just tender, about 5 minutes. Add in the egg noodles and cook according to the package directions, or until tender.\n",
      "3. Just before serving, use two forks to shred the chicken into bite-sized pieces and add to the soup along with the greens, lemon juice and herbs and a final seasoning of salt and pepper.\n",
      "4. On a sturdy work surface using a sharp knife, break down the chicken by removing the wings and legs at their joints and splitting the legs into thighs and drumsticks. Carefully remove the breast meat from the carcass and wrap and set aside in the fridge or freezer for later use. Place the broken-down chicken bones, wings, thighs and drumsticks into a large stockpot.\n",
      "5. Roughly chop the celery and carrots into large chunks and add them to the pot. Leave the onion unpeeled, cut it in half, and place in the pot along with the garlic, parsley stalks, thyme, bay, peppercorns and salt. Pour 4 liters of water (about 1 gallon) on top, adding more if the veg and chicken are not fully covered.\n",
      "6. Place the pot over high heat, bring to a boil, then immediately reduce the heat to low to maintain a low simmer. Simmer the stock for at least 4 hours, occasionally skimming any frothy foam that floats to the surface.\n",
      "7. When the stock is flavourful and the chicken bones fall apart easily when pressed, scoop out as much of the chicken and veg as possible, then strain the stock through a fine mesh sieve. Allow the stock to cool to room temperature before transferring to resealable containers and storing in the fridge for up to one week or in the freezer for up to 6 months. , \n"
     ]
    }
   ],
   "source": [
    "print(noodle_recipe)"
   ]
  },
  {
   "cell_type": "code",
   "execution_count": 5,
   "metadata": {},
   "outputs": [
    {
     "name": "stdout",
     "output_type": "stream",
     "text": [
      "Recipe Name: Seared Tuna, \n",
      "Ingredients: 2 pounds sushi-grade ahi tuna, cut into 1-inch cubes, 1/2 cup olive oil, Salt and freshly ground black pepper, Rosemary stems cut into skewers about 2-inches long with leaves attached, \n",
      "Cooking Instructions: 1. Preheat a grill or grill pan to high.\n",
      "2. Put cubed tuna in a mixing bowl with olive oil, salt and pepper. Toss to incorporate the seasoning. Skewer the tuna through the center half way down the skewer. Season again with salt and pepper. Sear on a very hot grill for 10 seconds on all sides. Cool and serve at room temperature., \n"
     ]
    }
   ],
   "source": [
    "print(test_recipe)"
   ]
  },
  {
   "cell_type": "code",
   "execution_count": 8,
   "metadata": {},
   "outputs": [
    {
     "name": "stdout",
     "output_type": "stream",
     "text": [
      "Recipe Name: Chocolate-Glazed Pound Cake, \n",
      "Ingredients: , \n",
      "Cooking Instructions: 1. Microwave 6 ounces chopped bittersweet chocolate with 1 stick cut-up butter and 1 tablespoon honey on 75 percent power until melted, about 2 minutes. Whisk until smooth. Place a loaf of pound cake on a rack and drizzle with the glaze., \n"
     ]
    }
   ],
   "source": [
    "irrelevant_recipe = chroma_store.similarity_search(\"Chocolate Cake\", k=5)[0].page_content\n",
    "print(irrelevant_recipe)"
   ]
  },
  {
   "cell_type": "markdown",
   "metadata": {},
   "source": [
    "### LLM Performance without retrieval-augmentation"
   ]
  },
  {
   "cell_type": "code",
   "execution_count": null,
   "metadata": {},
   "outputs": [],
   "source": [
    "#"
   ]
  },
  {
   "cell_type": "markdown",
   "metadata": {},
   "source": [
    "### The LLM chain inserts these documents into the input prompt as additional context. "
   ]
  },
  {
   "cell_type": "code",
   "execution_count": 7,
   "metadata": {},
   "outputs": [
    {
     "name": "stderr",
     "output_type": "stream",
     "text": [
      "/home/alvin/miniconda3/envs/langchain/lib/python3.11/site-packages/transformers/generation/utils.py:1421: UserWarning: You have modified the pretrained model configuration to control generation. This is a deprecated strategy to control generation and will be removed soon, in a future version. Please use and modify the model generation configuration (see https://huggingface.co/docs/transformers/generation_strategies#default-text-generation-configuration )\n",
      "  warnings.warn(\n"
     ]
    },
    {
     "name": "stdout",
     "output_type": "stream",
     "text": [
      "To substitute chicken for seared tuna in this recipe, you can follow these steps:\n",
      "\n",
      "1. Replace the 1 (4 pound) whole chicken with 1 (4 pound) piece of seared tuna.\n",
      "2. Keep all the vegetables and seasonings the same, except for the chicken broth, which will now be used as a marinade for the tuna.\n",
      "3. Marinate the tuna in the chicken broth, along with the lemongrass, bay leaves, and peppercorns, for at least 1 hour in the refrigerator.\n",
      "4. Before cooking the tuna, remove it from the marinade and pat it dry with paper towels to remove excess moisture.\n",
      "5. In step 3 of the original recipe, use a skillet or cast-iron pan to sear the tuna over high heat for 30 seconds to 5 minutes per side, or until it reaches your desired level of doneness.\n",
      "6. Once the tuna is cooked, add it to the pot with the vegetables and noodles, and simmer for an additional 10 minutes to allow the flavors to meld together.\n",
      "\n",
      "By following these steps, you will have successfully substituted chicken for seared tuna in this recipe, resulting in a delicious and hearty chicken noodle soup. Enjoy!\n"
     ]
    }
   ],
   "source": [
    "template = f\"\"\"\n",
    "You are a helpful, respectful and honest assistant. Always answer as helpfully as possible.\n",
    "\n",
    "If a question does not make any sense, or is not factually coherent, explain why instead of answering something not correct. If you don't know the answer to a question, please don't share false information.\n",
    "\n",
    "### Instruction:\n",
    "Use the following pieces of context to answer the question at the end. If you don't know the answer, just say that you don't know, don't try to make up an answer.\n",
    "{test_recipe}\n",
    "\n",
    "### Input:\n",
    "How would you rewrite this recipe for chicken noodle soup in order to substitute chicken for seared tuna? Please provide your answer in the form of an informative cooking recipe.\n",
    "{noodle_recipe}\n",
    "\n",
    "### Response:\n",
    "\"\"\"\n",
    "\n",
    "test_result = llm(template)\n",
    "print(test_result)"
   ]
  },
  {
   "cell_type": "markdown",
   "metadata": {},
   "source": [
    "#### The structure of the response can be manipulated by providing the LLM with the start of the expected answer. Here, this is achieved by appending \"Recipe Name:\" to the end of the input query. The LLM will use this template and the inserted recipes (which have a very similar form) to generate an output that looks like a recipe you might find on the internet."
   ]
  },
  {
   "cell_type": "code",
   "execution_count": 8,
   "metadata": {},
   "outputs": [
    {
     "name": "stdout",
     "output_type": "stream",
     "text": [
      "Asian Sesame Seared or Grilled Tuna (Gluten Free)\n",
      "\n",
      "To incorporate seared tuna into the existing chicken noodle soup recipe, you can follow these steps:\n",
      "\n",
      "Step 1: Prepare the tuna marinade by whisking together 0.25 cup tamari (gluten-free soy sauce), 0.25 cup sesame oil, 2 tablespoons mirin (Japanese sweet wine), 2 tablespoons honey, 2 tablespoons rice wine vinegar, 2 tablespoons grated fresh ginger, 2 green onions, thinly sliced, divided, 2 cloves garlic, minced, or more to taste, in a bowl until well combined.\n",
      "\n",
      "Step 2: In a separate bowl, mix together 1 pound carrots, 0.66666668653488 bunch celery, trimmed, 1 large onion, peeled and halved, 3 tablespoons chopped lemongrass, 3 large bay leaves, 10 whole black peppercorns, and 1 pound carrots, peeled and sliced, in a large stockpot.\n",
      "\n",
      "Step 3: Add 1 (4 pound) whole chicken, cut into pieces, to the stockpot and pour in 1 gallon water. Bring to a boil over high heat, then reduce the heat, cover, and simmer for 30 minutes, or until the chicken is cooked through and the juices run clear.\n",
      "\n",
      "Step 4: Remove the chicken from the pot and let it cool before shredding the meat into bite-sized pieces. Set aside.\n",
      "\n",
      "Step 5: Add 4 (6 ounce) tuna steaks to the pot and cook for 30 seconds to 5 minutes per side, or until the tuna is seared and cooked to your liking.\n",
      "\n",
      "Step 6: While the tuna is cooking, prepare the sesame seed crust by spreading 2 tablespoons sesame seeds onto a plate. Remove the tuna from the pot and place it onto the sesame seed crust, pressing the fish into the seeds to coat evenly.\n",
      "\n",
      "Step 7: Serve the tuna in the chicken noodle soup along with the cooked noodles, carrots, celery, and other vegetables. Enjoy!\n"
     ]
    }
   ],
   "source": [
    "template = f\"\"\"\n",
    "You are a helpful, respectful and honest assistant. Always answer as helpfully as possible.\n",
    "\n",
    "If a question does not make any sense, or is not factually coherent, explain why instead of answering something not correct. If you don't know the answer to a question, please don't share false information.\n",
    "\n",
    "### Instruction:\n",
    "Use the following pieces of context to answer the question at the end. If you don't know the answer, just say that you don't know, don't try to make up an answer.\n",
    "{test_recipe}\n",
    "\n",
    "### Input:\n",
    "How would you rewrite this recipe for chicken noodle soup in order to add seared tuna? Please provide your answer in the form of an informative cooking recipe.\n",
    "{noodle_recipe}\n",
    "\n",
    "### Response: Recipe Name:\n",
    "\"\"\"\n",
    "\n",
    "print(llm(template))"
   ]
  },
  {
   "cell_type": "markdown",
   "metadata": {},
   "source": [
    "#### What would happen if a recipe irrelevant to the input query was provided? The LLM will ignore the information in the recipe and fall back on the knowledge base it was trained on. Prompting the structure answer by appending \"Recipe Name:\" still achieves the desired effect."
   ]
  },
  {
   "cell_type": "code",
   "execution_count": 9,
   "metadata": {},
   "outputs": [
    {
     "name": "stdout",
     "output_type": "stream",
     "text": [
      "To make this delicious chicken noodle soup with seared tuna instead of chicken, simply follow these steps:\n",
      "\n",
      "Ingredients:\n",
      "\n",
      "* 1 (4 pound) piece of sushi-grade tuna, cut into pieces\n",
      "* 1 gallon water\n",
      "* 1 pound whole carrots, peeled and sliced\n",
      "* 0.66666668653488 bunch celery, trimmed\n",
      "* 1 large onion, peeled and halved\n",
      "* 3 tablespoons chopped lemongrass\n",
      "* 3 large bay leaves\n",
      "* 10 whole black peppercorns\n",
      "* 1 pound carrots, peeled and sliced\n",
      "* 0.33333334326744 bunch celery with leaves, sliced\n",
      "* 0.25 cup tuna soup base (available at most Asian grocery stores)\n",
      "* 1 (8 ounce) package dry egg noodles\n",
      "\n",
      "Cooking Instructions:\n",
      "\n",
      "1. Place tuna into a large stockpot and pour in water. Bring to a boil over high heat.\n",
      "2. Reduce the heat, cover, and simmer for 30 minutes, or until the tuna is cooked through and flakes easily with a fork.\n",
      "3. Add whole carrots, whole celery, onion half, lemongrass, bay leaves, and peppercorns. Cover and simmer for 1 hour; the tuna should be opaque and the juices should run clear. An instant-read thermometer inserted into the thickest part of the tuna should read 165°F (74°C).\n",
      "4. Transfer the tuna to a platter and let it cool until it is safe to handle. Strain the stock, discarding the solids.\n",
      "5. Return the strained stock to the pot and add the sliced carrots, sliced celery (not the leaves), and tuna soup base. Bring to a boil, then reduce the heat, cover, and simmer until the carrots are tender, about 20 minutes.\n",
      "6. Meanwhile, chop the cooled tuna into bite-sized pieces.\n",
      "7. Add the noodles and celery leaves to the pot; simmer until the noodles are tender yet firm to the bite, about 10 minutes. Stir in the tuna and cook until heated through, 3 to 5 minutes.\n",
      "\n",
      "Enjoy your delicious tuna noodle soup!\n"
     ]
    }
   ],
   "source": [
    "template = f\"\"\"\n",
    "You are a helpful, respectful and honest assistant. Always answer as helpfully as possible.\n",
    "\n",
    "If a question does not make any sense, or is not factually coherent, explain why instead of answering something not correct. If you don't know the answer to a question, please don't share false information.\n",
    "\n",
    "### Instruction:\n",
    "Use the following pieces of context to answer the question at the end. If you don't know the answer, just say that you don't know, don't try to make up an answer.\n",
    "{irrelevant_recipe}\n",
    "\n",
    "### Input:\n",
    "How would you rewrite this recipe for chicken noodle soup in order to substitute chicken for seared tuna? Please provide your answer in the form of an informative cooking recipe.\n",
    "{noodle_recipe}\n",
    "\n",
    "### Response:\n",
    "\"\"\"\n",
    "\n",
    "print(llm(template))"
   ]
  },
  {
   "cell_type": "code",
   "execution_count": 10,
   "metadata": {},
   "outputs": [
    {
     "name": "stdout",
     "output_type": "stream",
     "text": [
      " Tasty Tuna Chicken Noodle Soup, Ingredients: 1 (4 pound) whole chicken, cut into pieces, 1 gallon water, 1 pound whole carrots, 0.66666668653488 bunch celery, trimmed, 1 large onion, peeled and halved, 3 tablespoons chopped lemongrass, 3 large bay leaves, 10 whole black peppercorns, 1 pound carrots, peeled and sliced, 0.33333334326744 bunch celery with leaves, sliced, divided, 0.25 cup chicken soup base, 1 (8 ounce) package dry egg noodles, Cooking Instructions: Place chicken into a large stockpot and pour in water. Bring to a boil over high heat. Reduce the heat, cover, and simmer, skimming fat as needed, for 30 minutes. Add whole carrots, whole celery, onion half, lemongrass, bay leaves, and peppercorns. Cover and simmer for 1 hour; chicken should no longer be pink at the bone and the juices should run clear. An instant-read thermometer inserted into the thickest part of the thigh, near the bone, should read 165 degrees F (74 degrees C)., Transfer chicken to a platter and let sit until cool enough to handle. Strain stock, discarding solids., Return strained stock to the pot and set over high heat. Stir in sliced carrots, sliced celery (not the leaves), and chicken base. Bring to a boil, then reduce the heat, cover, and simmer until carrots are tender, about 20 minutes., Meanwhile, remove and discard skin from cooled chicken. Chop meat into bite-sized pieces., Add noodles and celery leaves to the pot; simmer until noodles are tender yet firm to the bite, about 10 minutes. Stir in chicken and cook until heated through, 3 to 5 minutes., Add 0.5 cup of seared tuna steaks to the pot during the last 5 minutes of cooking. Serve hot with additional chopped scallions and soy sauce if desired., \n"
     ]
    }
   ],
   "source": [
    "template = f\"\"\"\n",
    "You are a helpful, respectful and honest assistant. Always answer as helpfully as possible.\n",
    "\n",
    "If a question does not make any sense, or is not factually coherent, explain why instead of answering something not correct. If you don't know the answer to a question, please don't share false information.\n",
    "\n",
    "### Instruction:\n",
    "Use the following pieces of context to answer the question at the end. If you don't know the answer, just say that you don't know, don't try to make up an answer.\n",
    "{irrelevant_recipe}\n",
    "\n",
    "### Input:\n",
    "How would you rewrite this recipe for chicken noodle soup in order to add seared tuna? Please provide your answer in the form of an informative cooking recipe.\n",
    "{noodle_recipe}\n",
    "\n",
    "### Response:\n",
    "Recipe Name:\"\"\"\n",
    "\n",
    "\n",
    "print(llm(template))"
   ]
  },
  {
   "cell_type": "markdown",
   "metadata": {},
   "source": [
    "#### The response from the first LLM query can be fed back into the LLM with a different template to create the final, modified recipe."
   ]
  },
  {
   "cell_type": "code",
   "execution_count": 11,
   "metadata": {},
   "outputs": [
    {
     "name": "stdout",
     "output_type": "stream",
     "text": [
      "Awesome Tuna Noodle Soup\n",
      "\n",
      "Ingredients:\n",
      "\n",
      "* 1 (4 pound) piece of seared tuna, cut into bite-sized pieces\n",
      "* 1 gallon water\n",
      "* 1 pound whole carrots, peeled and sliced\n",
      "* 0.66666668653488 bunch celery, trimmed, sliced (not the leaves)\n",
      "* 1 large onion, peeled and halved\n",
      "* 3 tablespoons chopped lemongrass\n",
      "* 3 large bay leaves\n",
      "* 10 whole black peppercorns\n",
      "* 1 pound carrots, peeled and sliced\n",
      "* 0.33333334326744 bunch celery with leaves, sliced, divided\n",
      "* 0.25 cup tuna broth base\n",
      "* 1 (8 ounce) package dry egg noodles\n",
      "\n",
      "Cooking Instructions:\n",
      "\n",
      "1. Place tuna into a large stockpot and pour in water. Bring to a boil over high heat.\n",
      "2. Reduce the heat, cover, and simmer for 1 hour; tuna should be opaque and flake easily with a fork.\n",
      "3. Remove tuna from the pot and let it rest for 10 minutes before cutting it into bite-sized pieces.\n",
      "4. Strain the liquid from the pot and discard any solids.\n",
      "5. Return the strained liquid to the pot and stir in sliced carrots, sliced celery, lemongrass, bay leaves, and peppercorns.\n",
      "6. Bring the mixture to a boil, then reduce the heat, cover, and simmer for 20 minutes, or until the carrots are tender.\n",
      "7. Add noodles and celery leaves to the pot; simmer for 10 minutes, or until the noodles are tender yet firm to the bite.\n",
      "8. Stir in the tuna and cook for an additional 5 minutes, or until the tuna is heated through.\n",
      "9. Serve hot, garnished with chopped scallions and a dollop of soy sauce, if desired.\n"
     ]
    }
   ],
   "source": [
    "modify_template = f\"\"\"\n",
    "You are a helpful, respectful and honest assistant. Always answer as helpfully as possible.\n",
    "\n",
    "If a question does not make any sense, or is not factually coherent, explain why instead of answering something not correct. If you don't know the answer to a question, please don't share false information.\n",
    "\n",
    "### Instruction:\n",
    "Use the following pieces of context to answer the question at the end. If you don't know the answer, just say that you don't know, don't try to make up an answer.\n",
    "{noodle_recipe}\n",
    "\n",
    "### Input:\n",
    "Rewrite this recipe to include the modifications provided.\n",
    "{test_result}\n",
    "\n",
    "### Response: Recipe Name:\n",
    "\"\"\"\n",
    "\n",
    "print(llm(modify_template))"
   ]
  },
  {
   "cell_type": "markdown",
   "metadata": {},
   "source": [
    "### Intermediate chain-of-thought and few-shot examples"
   ]
  },
  {
   "cell_type": "code",
   "execution_count": null,
   "metadata": {},
   "outputs": [],
   "source": [
    "fewshot_cot_template = f\"\"\"\n",
    "You are a helpful, respectful and honest assistant. Always answer as helpfully as possible.\n",
    "\n",
    "If a question does not make any sense, or is not factually coherent, explain why instead of answering something not correct. If you don't know the answer to a question, please don't share false information.\n",
    "\n",
    "### Instruction:\n",
    "Use the following examples to answer the question at the end. If you don't know the answer, just say that you don't know, don't try to make up an answer.\n",
    "\n",
    "Input: How this recipe for chicken noodle soup be rewritten to use seared tuna instead of chicken?\n",
    "{noodle_recipe}\n",
    "Chicken needs to be substituted for tuna, so it should be removed from the ingredient list and replaced with an equal amount of tuna. Now that chicken is no longer in the ingredient list,\n",
    "the recipe instructions that reference chicken need to be adjusted to include tuna instead.\n",
    "\n",
    "### Input:\n",
    "Rewrite this recipe to include the modifications provided.\n",
    "{test_result}\n",
    "\n",
    "### Response: Recipe Name:\n",
    "\"\"\""
   ]
  },
  {
   "cell_type": "markdown",
   "metadata": {},
   "source": [
    "### Implementing the LLM chain in Langchain"
   ]
  },
  {
   "cell_type": "code",
   "execution_count": null,
   "metadata": {},
   "outputs": [],
   "source": [
    "from langchain.prompts import PromptTemplate\n",
    "from langchain.chains import RetrievalQA, StuffDocumentsChain, LLMChain\n",
    "template_llm = \"\"\"\n",
    "You are a helpful, respectful and honest assistant. Always answer as helpfully as possible.\n",
    "\n",
    "If a question does not make any sense, or is not factually coherent, explain why instead of answering something not correct. If you don't know the answer to a question, please don't share false information.\n",
    "\n",
    "### Instruction:\n",
    "Use the following pieces of context to answer the question at the end. If you don't know the answer, just say that you don't know, don't try to make up an answer.\n",
    "{context}\n",
    "\n",
    "### Input:\n",
    "{question}\n",
    "\n",
    "### Response:\n",
    "\\n\n",
    "\"\"\"\n",
    "prompt = PromptTemplate(template=template_llm, input_variables=[\"context\", \"question\"])\n",
    "document_prompt = PromptTemplate(\n",
    "    input_variables=[\"page_content\"], template=\"{page_content}\"\n",
    ")\n",
    "\n",
    "recipe_retriever = chroma_store.as_retriever(search_kwargs={\"k\": 1})\n",
    "\n",
    "analyze_and_modify = RetrievalQA.from_chain_type(\n",
    "    llm=llm,\n",
    "    chain_type=\"stuff\",\n",
    "    retriever=recipe_retriever,\n",
    "    chain_type_kwargs={\n",
    "        \"prompt\": prompt,\n",
    "        \"document_variable_name\": \"context\",\n",
    "        \"document_prompt\": document_prompt,\n",
    "    },\n",
    ")"
   ]
  }
 ],
 "metadata": {
  "kernelspec": {
   "display_name": "langchain",
   "language": "python",
   "name": "python3"
  },
  "language_info": {
   "codemirror_mode": {
    "name": "ipython",
    "version": 3
   },
   "file_extension": ".py",
   "mimetype": "text/x-python",
   "name": "python",
   "nbconvert_exporter": "python",
   "pygments_lexer": "ipython3",
   "version": "3.11.6"
  },
  "orig_nbformat": 4
 },
 "nbformat": 4,
 "nbformat_minor": 2
}
