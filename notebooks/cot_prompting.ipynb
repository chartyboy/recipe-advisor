{
 "cells": [
  {
   "cell_type": "markdown",
   "metadata": {},
   "source": [
    "# The LLM Pipeline"
   ]
  },
  {
   "cell_type": "code",
   "execution_count": 2,
   "metadata": {},
   "outputs": [
    {
     "name": "stdout",
     "output_type": "stream",
     "text": [
      "[Collection(name=summed), Collection(name=instruction), Collection(name=ingredient), Collection(name=name)]\n"
     ]
    }
   ],
   "source": [
    "import chromadb\n",
    "\n",
    "client = chromadb.PersistentClient(path='../datasets/processed/chroma_db')\n",
    "print(client.list_collections())"
   ]
  },
  {
   "cell_type": "markdown",
   "metadata": {},
   "source": [
    "## Loading the models and vector stores using Langchain"
   ]
  },
  {
   "cell_type": "code",
   "execution_count": 3,
   "metadata": {},
   "outputs": [
    {
     "name": "stderr",
     "output_type": "stream",
     "text": [
      "/home/alvin/miniconda3/envs/lc-update/lib/python3.11/site-packages/tqdm/auto.py:21: TqdmWarning: IProgress not found. Please update jupyter and ipywidgets. See https://ipywidgets.readthedocs.io/en/stable/user_install.html\n",
      "  from .autonotebook import tqdm as notebook_tqdm\n"
     ]
    }
   ],
   "source": [
    "import torch\n",
    "from langchain.vectorstores import Chroma\n",
    "from langchain.llms import HuggingFacePipeline\n",
    "from transformers import AutoTokenizer, AutoModelForCausalLM, pipeline\n",
    "from langchain.embeddings import HuggingFaceBgeEmbeddings\n",
    "\n",
    "# Initialize models\n",
    "model_name = \"BAAI/bge-large-en\"\n",
    "model_kwargs = {\"device\": \"cuda\"}\n",
    "encode_kwargs = {\"normalize_embeddings\": True}\n",
    "hf = HuggingFaceBgeEmbeddings(\n",
    "    model_name=model_name, model_kwargs=model_kwargs, encode_kwargs=encode_kwargs\n",
    ")\n",
    "\n",
    "model_path = \"TheBloke/Llama-2-13B-chat-GPTQ\"\n",
    "tokenizer = AutoTokenizer.from_pretrained(model_path, use_fast=True)\n",
    "model = AutoModelForCausalLM.from_pretrained(\n",
    "    model_path, torch_dtype=torch.float16, device_map=\"auto\", revision=\"main\"\n",
    ")\n",
    "\n",
    "# Initialize Chroma\n",
    "chroma_store = Chroma(collection_name='summed', persist_directory='./chroma_db_allrecipes', embedding_function=hf)\n",
    "\n",
    "pipe = pipeline(\n",
    "    \"text-generation\",\n",
    "    model=model,\n",
    "    tokenizer=tokenizer,\n",
    "    max_new_tokens=1024,\n",
    "    # temperature=0.00,\n",
    "    # top_p=0.95,\n",
    "    repetition_penalty=1.15,\n",
    ")\n",
    "llm = HuggingFacePipeline(pipeline=pipe)"
   ]
  },
  {
   "cell_type": "markdown",
   "metadata": {},
   "source": [
    "### Relevant documents can be retrieved from the vector store and used as context"
   ]
  },
  {
   "cell_type": "code",
   "execution_count": 3,
   "metadata": {},
   "outputs": [
    {
     "name": "stdout",
     "output_type": "stream",
     "text": [
      "page_content='Recipe Name: Healthier Beef Stroganoff III, \\nIngredients: 2 pounds beef chuck roast, 0.5 teaspoon salt, 0.5 teaspoon ground black pepper, 1 tablespoon butter, 0.5 pound white mushrooms, sliced, 4 green onions, sliced (white and green parts), 2 tablespoons butter, divided, 0.33333334326744 cup white wine, 0.25 cup all-purpose flour, 1.25 cups reduced-sodium beef stock, divided, 1 teaspoon prepared mustard, 0.33333334326744 cup light sour cream, salt and ground black pepper to taste, \\nCooking Instructions: 1. Remove any fat and gristle from the roast and cut into strips 1/2-inch thick by 2-inches long. Season with 1/2 teaspoon salt and 1/2 teaspoon pepper.\\n2. Melt 1 tablespoon butter in a large skillet over medium heat. Add mushrooms and green onions and cook, stirring occasionally, until mushrooms are browned, about 6 minutes. Remove to a bowl and add 1 tablespoon butter to the skillet. Cook and stir one half the beef strips until browned, about 5 minutes, then remove to a bowl. Repeat with the remaining butter and beef strips. Pour wine into the hot skillet and deglaze the pan, scraping up any browned bits.\\n3. Combine flour and 1/4 cup beef broth in a jar with a tightly fitting lid and shake until combined. Stir into the skillet, whisking until smooth. Stir in the remaining broth and mustard, then return the beef to the pan. Bring to a simmer. Cover and simmer until the meat is tender, about 1 hour.\\n4. Stir in the prepared mushrooms and the sour cream five minutes before serving. Heat briefly and season with salt and pepper., '\n",
      "page_content='Recipe Name: Beef Stroganoff, \\nIngredients: 2 pounds beef chuck roast, 0.5 teaspoon salt, 0.5 teaspoon ground black pepper, 4 ounces butter, 4 green onions, sliced (white parts only), 4 tablespoons all-purpose flour, 1 (10.5 ounce) can condensed beef broth, 1 teaspoon prepared mustard, 1 (6 ounce) can sliced mushrooms, drained, 0.33333334326744 cup sour cream, 0.33333334326744 cup white wine, salt and ground black pepper to taste, \\nCooking Instructions: 1. Remove any fat and gristle from chuck roast; cut into strips 1/2-inch thick by 2-inches long. Season with ½ teaspoon salt and ½ teaspoon pepper.\\n2. Melt butter in a large skillet over medium heat. Add beef and brown quickly.\\n3. Push beef to one side of the skillet. Add onions; cook and stir for 3 to 5 minutes, then push to the side with beef.\\n4. Stir flour into juices on the empty side of the pan. Pour in beef broth and bring to a boil, stirring constantly. Lower the heat and stir in mustard. Cover and simmer for 1 hour or until the beef is tender.\\n5. Five minutes before serving, stir in mushrooms, sour cream, and white wine. Cook until heated through; season with salt and pepper.\\n6. Serve over noodles., '\n",
      "page_content='Recipe Name: Stroganoff, \\nIngredients: 1 pound ground beef, 0.5 cup chopped onion, 1 tablespoon all-purpose flour, 0.5 teaspoon salt, 0.25 teaspoon paprika, 1 (10.75 ounce) can condensed cream of mushroom soup, 1 cup sour cream, 8 ounces egg noodles, \\nCooking Instructions: 1. In a large skillet over medium heat, sauté beef and onions for 10 minutes, or until meat is browned and onion is tender.\\n2. Stir in flour, salt, and paprika. Add condensed soup, mix well, and cook, uncovered, for 20 minutes.\\n3. Reduce heat to low and add sour cream, stirring well and allowing to heat through. Cover and set this mixture aside.\\n4. Cook egg noodles according to package directions. Drain. Serve beef mixture over noodles., '\n",
      "page_content='Recipe Name: Hamburger Stroganoff, \\nIngredients: 1 pound ground beef chuck, 1 (8 ounce) package sliced fresh mushrooms, 1 medium onion, chopped, 2 cloves garlic, minced, 2 tablespoons all-purpose flour, 1 (14 ounce) can beef broth, 1 (10.5 ounce) can condensed cream of mushroom soup, 2 tablespoons Worcestershire sauce, 1 teaspoon ground black pepper, 0.5 teaspoon salt, 1 (12 ounce) package egg noodles, 1 cup sour cream, 2 teaspoons finely grated raw horseradish, \\nCooking Instructions: 1. Cook and stir beef, mushrooms, onion, and garlic in a large nonstick skillet over medium-high heat until beef is browned and crumbly, 6 to 8 minutes. Add flour; cook and stir until combined, about 2 minutes. Stir in broth, condensed soup, Worcestershire sauce, pepper, and salt; bring to a boil. Reduce the heat and simmer, stirring occasionally, until flavors blend, about 15 minutes.\\n2. When you reduce the heat, bring a large pot of lightly salted water to a boil. Add egg noodles, return to a boil, and cook, uncovered and stirring occasionally, until tender yet firm to the bite, about 6 minutes. Drain and keep warm.\\n3. Mix sour cream and horseradish together in a bowl. Stir into beef mixture and cook until hot, about 5 minutes. Serve over egg noodles., '\n",
      "page_content='Recipe Name: Beef Stroganoff with Steak, \\nIngredients: 1 pound sirloin steak, cut into bite size strips, 1 onion, chopped, 1.5 tablespoons all-purpose flour, 0.75 teaspoon salt, 0.25 teaspoon paprika, 0.125 teaspoon ground black pepper, 1 (10.75 ounce) can condensed cream of mushroom soup, 1.25 cups fat free sour cream, 1 (8 ounce) package egg noodles, \\nCooking Instructions: 1. Brown steak strips in a large skillet over medium-high heat; drain excess fat. Add onion and sauté for 5 minutes, or until tender. Stir in flour, salt, paprika, and ground black pepper.\\n2. Stir in soup; reduce heat to medium-low and simmer for 15 minutes. Stir in sour cream.\\n3. Prepare egg noodles according to package directions. Serve beef stroganoff over egg noodles., '\n"
     ]
    }
   ],
   "source": [
    "sample_recipe = chroma_store.similarity_search(\"Beef Stroganoff\", k=5)\n",
    "mushroom_recipe = chroma_store.similarity_search('Portobello Mushroom Stroganoff',k=5)[1].page_content\n",
    "for doc in sample_recipe:\n",
    "    print(doc)\n",
    "\n",
    "beef_recipe = sample_recipe[2].page_content"
   ]
  },
  {
   "cell_type": "code",
   "execution_count": 4,
   "metadata": {},
   "outputs": [
    {
     "name": "stdout",
     "output_type": "stream",
     "text": [
      "Recipe Name: Stroganoff, \n",
      "Ingredients: 1 pound ground beef, 0.5 cup chopped onion, 1 tablespoon all-purpose flour, 0.5 teaspoon salt, 0.25 teaspoon paprika, 1 (10.75 ounce) can condensed cream of mushroom soup, 1 cup sour cream, 8 ounces egg noodles, \n",
      "Cooking Instructions: 1. In a large skillet over medium heat, sauté beef and onions for 10 minutes, or until meat is browned and onion is tender.\n",
      "2. Stir in flour, salt, and paprika. Add condensed soup, mix well, and cook, uncovered, for 20 minutes.\n",
      "3. Reduce heat to low and add sour cream, stirring well and allowing to heat through. Cover and set this mixture aside.\n",
      "4. Cook egg noodles according to package directions. Drain. Serve beef mixture over noodles., \n"
     ]
    }
   ],
   "source": [
    "print(beef_recipe)"
   ]
  },
  {
   "cell_type": "code",
   "execution_count": 5,
   "metadata": {},
   "outputs": [
    {
     "name": "stdout",
     "output_type": "stream",
     "text": [
      "Recipe Name: Portobello Mushroom Stroganoff, \n",
      "Ingredients: 3 tablespoons butter, 1 large onion, chopped, 0.75 pound portobello mushrooms, sliced, 1.5 cups vegetable broth, 1.5 cups sour cream, 3 tablespoons all-purpose flour, 0.25 cup chopped fresh parsley, 8 ounces dried egg noodles, \n",
      "Cooking Instructions: 1. Bring a large pot of lightly salted water to a boil. Add egg noodles, and cook until al dente, about 7 minutes. Remove from heat, drain, and set aside.\n",
      "2. At the same time, melt butter in a large heavy skillet over medium heat. Add onion, and cook, stirring until softened. Turn the heat up to medium-high, and add sliced mushrooms. Cook until the mushrooms are limp and browned. Remove to a bowl, and set aside.\n",
      "3. In the same skillet, stir in vegetable broth, being sure to stir in any browned bits off the bottom of the pan. Bring to a boil, and cook until the mixture has reduced by 1/3. Reduce heat to low, and return the mushrooms and onion to the skillet.\n",
      "4. Remove the pan from the heat, stir together the sour cream and flour; then blend into the mushrooms. Return the skillet to the burner, and continue cooking over low heat, just until the sauce thickens. Stir in the parsley, and season to taste with salt and pepper. Serve over cooked egg noodles., \n"
     ]
    }
   ],
   "source": [
    "print(mushroom_recipe)"
   ]
  },
  {
   "cell_type": "code",
   "execution_count": 6,
   "metadata": {},
   "outputs": [
    {
     "name": "stdout",
     "output_type": "stream",
     "text": [
      "Recipe Name: Too Much Chocolate Cake, \n",
      "Ingredients: 1 (18.25 ounce) package devil's food cake mix, 1 (5.9 ounce) package instant chocolate pudding mix, 1 cup sour cream, 1 cup vegetable oil, 0.5 cup warm water, 4 eggs, 2 cups semisweet chocolate chips, \n",
      "Cooking Instructions: 1. Preheat the oven to 350 degrees F (175 degrees C). Generously grease a 12-cup Bundt pan.\n",
      "2. Mix together cake mix, pudding mix, sour cream, oil, water, and eggs in a large bowl until well-blended.\n",
      "3. Stir in chocolate chips.\n",
      "4. Pour batter into the prepared Bundt pan.\n",
      "5. Bake in the preheated oven until top is springy to the touch and a toothpick inserted into center of cake comes out clean, 50 to 55 minutes.\n",
      "6. Cool cake thoroughly in the pan for at least 1 1/2 hours before inverting it onto a plate. Sprinkle powdered sugar on top if desired.\n",
      "7. Enjoy!, \n"
     ]
    }
   ],
   "source": [
    "irrelevant_recipe = chroma_store.similarity_search(\"Chocolate Cake\", k=1)[0].page_content\n",
    "print(irrelevant_recipe)"
   ]
  },
  {
   "cell_type": "code",
   "execution_count": 7,
   "metadata": {},
   "outputs": [],
   "source": [
    "beef_recipe = \"\"\"Recipe Name: Beef Stroganoff, \n",
    "Ingredients: 1 pound ground beef, 0.5 cup chopped onion, 1 tablespoon all-purpose flour, 0.5 teaspoon salt, 0.25 teaspoon paprika, 1 (10.75 ounce) can condensed cream of mushroom soup, 1 cup sour cream, 8 ounces egg noodles, \n",
    "Cooking Instructions: 1. In a large skillet over medium heat, sauté beef and onions for 10 minutes, or until meat is browned and onion is tender.\n",
    "2. Stir in flour, salt, and paprika. Add condensed soup, mix well, and cook, uncovered, for 20 minutes.\n",
    "3. Reduce heat to low and add sour cream, stirring well and allowing to heat through. Cover and set this mixture aside.\n",
    "4. Cook egg noodles according to package directions. Drain. Serve beef mixture over noodles., \"\"\""
   ]
  },
  {
   "cell_type": "code",
   "execution_count": 8,
   "metadata": {},
   "outputs": [],
   "source": [
    "mushroom_recipe = \"\"\"Recipe Name: Portobello Mushroom Stroganoff, \n",
    "Ingredients: 0.75 pound portobello mushrooms, 0.5 cup chopped onion, 1 tablespoon all-purpose flour, 0.5 teaspoon salt, 0.25 teaspoon paprika, 1 (10.75 ounce) can condensed cream of mushroom soup, 1 cup sour cream, 8 ounces egg noodles, \n",
    "Cooking Instructions: 1. In a large skillet over medium heat, sauté mushroom and onions for 10 minutes, or until meat is browned and onion is tender.\n",
    "2. Stir in flour, salt, and paprika. Add condensed soup, mix well, and cook, uncovered, for 20 minutes.\n",
    "3. Reduce heat to low and add sour cream, stirring well and allowing to heat through. Cover and set this mixture aside.\n",
    "4. Cook egg noodles according to package directions. Drain. Serve mushroom mixture over noodles., \"\"\""
   ]
  },
  {
   "cell_type": "code",
   "execution_count": 14,
   "metadata": {},
   "outputs": [
    {
     "name": "stdout",
     "output_type": "stream",
     "text": [
      "page_content='Recipe Name: Beef Pot Pie, \\nIngredients: 1 pound sirloin steak, cubed, salt and ground black pepper to taste, 1 (14 ounce) can beef broth, 3 large carrots, diced, 3 potatoes, cubed, 1 cup frozen green peas, thawed, 3 tablespoons cornstarch, 0.33333334326744 cup water, 2 (9 inch) refrigerator pie crusts, \\nCooking Instructions: 1. Gather all ingredients.\\n2. Brown pieces of meat on all sides in a saucepan over medium heat. Pour in some water to almost cover. Bring to a boil and reduce heat. Simmer until meat is tender and falls apart easily; 2 to 3 hours.\\n3. Transfer meat to a large mixing bowl. Shred the meat slightly and add salt and pepper to taste.\\n4. Meanwhile, in another 2-quart saucepan over medium heat, pour in beef broth and add carrots and potatoes. Cook until almost tender; 15 to 20 minutes.\\n5. Preheat the oven to 350 degrees F (175 degrees C).\\n6. When carrots and potatoes are done, transfer to the large mixing bowl with the beef; leaving the liquid in the pan. Combine peas with carrots, potatoes, and beef.\\n7. Dissolve cornstarch with 1/3 cup water. Pour into the saucepan with beef broth, stirring constantly. Bring to a simmer and reduce heat; cook for 5 minutes.\\n8. Line a 9-inch pie plate with one of the pie crusts following the package directions. Place the beef mixture into the pie crust. Pour the gravy over the top of the mixture, then cover with the other pie crust.\\n9. Bake in the preheated oven until the crust is golden brown; about 25 minutes. Let cool for 5 minutes before serving., '\n",
      "page_content='Recipe Name: Good Old Meat Pie, \\nIngredients: 1 recipe pastry for a 9 inch single crust pie, 3 tablespoons margarine, 0.5 cup chopped onion, 1 potato, diced, 0.33333298563957 cup all-purpose flour, 0.5 teaspoon dried oregano, 0.5 teaspoon garlic powder, 0.25 teaspoon black pepper, 1.25 cups beef broth, 1 carrot, chopped, 1 cup frozen green peas, 2 cups cubed cooked or leftover beef, \\nCooking Instructions: 1. Preheat the oven to 425 degrees F (220 degrees C). On a lightly floured surface, roll the pie crust out into a 12 inch circle. Set aside.\\n2. Melt margarine in a saucepan over medium heat. Add potato and onion, and cook until the onion is tender, but not brown. Sprinkle the flour over the mixture, and stir to blend. Season with oregano, black pepper and garlic powder. Pour in the beef broth, and add the peas, carrot and beef. Bring to a boil. Transfer the mixture to a 2 quart casserole dish, and place the pastry over the top. Cut slits for steam, and flute the edges.\\n3. Place on a baking sheet, and bake for 25 to 30 minutes, or until crust is golden. Let stand 10 minutes before serving to thicken., '\n",
      "page_content=\"Recipe Name: Instant Pot® Irish Beef Stew, \\nIngredients: 1.5 pounds beef stew meat, 1.5 teaspoons garlic salt, 0.5 teaspoon black pepper, 2 tablespoons flour, 2 tablespoons butter, 3 cloves garlic, minced, 2 cups beef broth, 2 pounds russet potatoes, scrubbed and cut into 1-inch cubes, 2 medium carrots, coarsely chopped, 1 medium onion, cut into wedges, 1 tablespoon Worcestershire sauce, 1 tablespoon coconut aminos (soy-free seasoning sauce), 2 teaspoons steak sauce, 1 teaspoon browning sauce, 1.5 teaspoons dried rosemary, 0.5 teaspoon dried thyme, 1 teaspoon salt, or to taste, \\nCooking Instructions: 1. Place stew meat in a large bowl and season liberally with garlic salt and pepper. Add flour and toss to coat. Set floured meat aside.\\n2. Turn on a multi-functional pressure cooker (such as Instant Pot®) and select Saute function. Melt 1 tablespoon butter and add garlic. Saute until soft and fragrant, about 1 minute. Add remaining 1 tablespoon butter and floured meat; discard remaining flour in the bowl. Cook beef without stirring until browned on one side, 1 to 3 minutes. Stir and repeat until most sides are browned, 5 to 7 minutes more. Add beef broth. Close and lock the lid. Choose manual high pressure and set timer for 30 minutes. Allow 10 to 15 minutes for pressure to build.\\n3. Release pressure using the natural-release method according to manufacturer's instructions, 10 to 40 minutes. Unlock and remove the lid.\\n4. Add potatoes, carrots, and onion to the pot and stir to combine with beef. Close and lock the lid. Choose manual high pressure and set timer for 10 minutes. Allow 10 to 15 minutes for pressure to build.\\n5. Release pressure carefully using the quick-release method according to manufacturer's instructions, about 5 minutes. Unlock and remove the lid.\\n6. Add Worcestershire sauce, coconut aminos, steak sauce, browning sauce, rosemary, and thyme to the pot and stir to combine. Taste and season with salt, if needed., \"\n",
      "page_content=\"Recipe Name: Simple Shepherd's Pie, \\nIngredients: 1 pound ground beef, 1 medium onion, chopped, 1 (10.75 ounce) can Campbell's® Condensed Cream of Mushroom Soup (Regular or 98% Fat Free), 1 tablespoon ketchup, 0.125 teaspoon ground black pepper, 1 cup frozen peas and carrots, 1 cup milk, 2 tablespoons butter, 1.3333333730698 cups instant mashed potato flakes or buds, \\nCooking Instructions: 1. Cook beef and onion in 10-inch skillet over medium-high heat until well browned, stirring to break up meat. Pour off fat.\\n2. Stir soup, ketchup, black pepper and peas and carrots into skillet. Spoon beef mixture in 9-inch pie plate.\\n3. Heat milk and butter in 2-quart saucepan over medium-high heat to a boil. Remove from heat. Slowly stir in potatoes. Spoon potatoes over beef mixture.\\n4. Bake at 400 degrees F for 15 minutes or until potatoes are lightly browned., \"\n",
      "page_content=\"Recipe Name: Instant Pot Best Beef Stew, \\nIngredients: 1 tablespoon butter, 1 pound beef chuck, cut into 1-inch cubes, 4 Yukon Gold potatoes, cubed, 1.5 cups mushrooms, halved, 1 onion, cut into 6 wedges, 2 carrots, cut into 1/2-inch thick slices, 2 cloves garlic, minced, 3 cups beef broth, 1 tablespoon Worcestershire sauce, 1 tablespoon tomato paste, 1 teaspoon salt, 0.5 teaspoon ground black pepper, 0.5 teaspoon dried rosemary, \\nCooking Instructions: 1. Gather all ingredients.\\n2. Turn on a multi-functional pressure cooker (such as Instant Pot) and select the Sauté function. Melt butter in the pot. Cook beef chuck cubes in batches until browned on all sides, about 5 minutes per batch.\\n3. Return all beef chuck cubes to the pot. Add potatoes, mushrooms, onion, carrots, and garlic; cover with beef broth. Stir in Worcestershire sauce, tomato paste, salt, pepper, and rosemary.\\n4. Close and lock the lid. Select Meat/Stew function, according to the manufacturer's instructions; set the timer for 35 minutes. Allow 10 to 15 minutes for pressure to build.\\n5. Release pressure using the natural-release method, according to the manufacturer's instructions, 10 to 40 minutes. Unlock and remove the lid., \"\n"
     ]
    }
   ],
   "source": [
    "beef_pot_pie = chroma_store.similarity_search(\"Beef Pot Pie\", k=5)\n",
    "for doc in beef_pot_pie:\n",
    "    print(doc)\n",
    "\n",
    "beef_stew = beef_pot_pie[4].page_content\n",
    "beef_pot_pie = beef_pot_pie[0].page_content"
   ]
  },
  {
   "cell_type": "code",
   "execution_count": 10,
   "metadata": {},
   "outputs": [
    {
     "name": "stdout",
     "output_type": "stream",
     "text": [
      "page_content='Recipe Name: Healthier Chicken Pot Pie IX, \\nIngredients: 1 pound skinless, boneless chicken breast halves - cubed, 1.5 cups sliced carrots, 1 cup frozen green peas, 0.5 cup sliced celery, 3 tablespoons butter, 0.33333334326744 cup chopped onion, 0.33333334326744 cup all-purpose flour, 0.5 teaspoon salt, 0.25 teaspoon ground black pepper, 0.25 teaspoon celery seed, 1.75 cups chicken broth, 0.66666668653488 cup low-fat (1%) milk, 0.25 cup chopped Italian parsley, 2 (9 inch) unbaked whole wheat pie crust, \\nCooking Instructions: 1. Preheat oven to 425 degrees F (220 degrees C).\\n2. Combine chicken, carrots, peas, and celery in a saucepan. Cover with water. Boil until chicken is no longer pink in the middle and vegetables are fork tender, about 15 minutes. Remove from heat, drain, and set aside.\\n3. Cook and stir onions in butter in a saucepan over medium heat, until soft and translucent, about 5 minutes. Stir in flour, salt, pepper, and celery seed. Slowly stir in chicken broth and milk. Simmer over medium-low heat until thick, about 5 minutes. Stir in parsley and remove from heat. Set aside.\\n4. Place chicken mixture in bottom pie crust; pour hot liquid mixture over. Cover with top crust, seal edges, and cut away excess dough. Make several small slits in top to allow steam to escape.\\n5. Bake in preheated oven until pie is golden brown and filling is bubbly, 30 to 35 minutes. Cool for 10 minutes before serving., '\n",
      "page_content=\"Recipe Name: To-Die-For Chicken Pot Pie, \\nIngredients: 6 carrots, chopped, 6 stalks celery, chopped, 1 cup fresh or frozen peas, 1 cup fresh or frozen green beans, thawed, 1 cup corn kernels, 1 yellow onion, diced, 1 cup quartered red potatoes, 3 cups chicken broth, 1 teaspoon thyme, 0.5 teaspoon salt, 0.5 teaspoon ground black pepper, 4 (.87 ounce) packages dry chicken gravy mix, 4 cups water, 1 (15 ounce) package double crust ready-to-use pie crusts (such as Pillsbury®), 1 whole roasted chicken, bones and skin removed, meat shredded, 0.25 cup butter, cut into pieces, 1 egg, 0.25 cup milk, \\nCooking Instructions: 1. Preheat oven to 425 degrees F (220 degrees C). Place a baking sheet on the a rack on which you'll bake the pie.\\n2. Combine the carrots, celery, peas, green beans, corn, onion, red potatoes, and chicken broth in a large pot. Season the vegetable mixture with thyme, salt, and black pepper; bring to a boil. Reduce heat to medium-low, cover, and simmer until the vegetables are tender, about 15 minutes. Drain the vegetables and set aside.\\n3. Place dry chicken gravy mix into another saucepan and gradually whisk in the water until smooth. Bring the mixture to a boil, reduce heat to medium-low, and simmer until thickened, about 1 minute. Set gravy aside and allow to continue to thicken as it cools.\\n4. Press one of the pie crusts into the bottom of a 9-inch pie dish. Spoon a layer of gravy (about 1/3 cup) into the crust. Layer the cooked vegetables and shredded chicken into the crust until the filling is level with the top of the pie dish. Pour the rest of the gravy slowly over the filling until gravy is visible at the top. Scatter butter pieces over the filling; top with second crust. Seal the 2 crusts together and crimp with a fork.\\n5. Whisk the egg and milk together in a bowl, and brush the egg wash over the top crust. Pierce the top crust several times to vent steam.\\n6. Bake the pot pie in the preheated oven until the filling is bubbling and the crust is golden brown, about 45 minutes to 1 hour. Check periodically to see if the edge of the crust is browning too quickly; if needed, cover the edge with a strip of aluminum foil to prevent over-browning., \"\n",
      "page_content='Recipe Name: Low-Fat Chicken Pot Pie, \\nIngredients: 3 bone-in chicken breast halves, skinless, 1 (14.5 ounce) can chicken broth, 3 potatoes, 1 yellow onion, 3 stalks celery, 2 tablespoons vegetable oil, 2 tablespoons all-purpose flour, 2 cups frozen mixed vegetables, 1 to taste salt and pepper to taste, 0.25 teaspoon garlic powder, 1 (9 inch) frozen prepared pie crust, thawed, \\nCooking Instructions: 1. Wash chicken breasts in water and then place in a pot with water just to cover the chicken add some salt and pepper and garlic powder. Bring to a boil, turn off heat and cover. Let cool in the pot.\\n2. Preheat oven to 350 degrees F (175 degrees C).\\n3. Wash and cut potatoes into bite size pieces and boil till almost fork tender. Drain and set aside.\\n4. Wash celery and cut to bite-size pieces. Cut onion to bite-size pieces.\\n5. In a large heavy skillet, over medium heat, saute celery and onion with 2 tablespoons oil, for 5 to 8 minutes. Add the frozen vegetables and cook another 5 minutes. Add flour and cook about 30 seconds.\\n6. Add chicken broth and bring to a boil. After it has become thick, add potatoes.\\n7. Remove chicken from pot and cut into bite-size pieces and add to vegetable mixture. Add salt and pepper to taste.\\n8. Pour mixture into a 9 inch deep dish pie plate and cover with pie shell. Make sure you crimp the edges of the pie shell to the plate so no juices spill in oven.\\n9. Bake at 350 degrees F (175 degrees C) for 45 minutes or until pie shell is cooked and golden brown., '\n",
      "page_content='Recipe Name: Chicken Pot Pie I, \\nIngredients: 4 skinless, boneless chicken breast halves, 1 (10.75 ounce) can condensed cream of chicken soup, 2 (15 ounce) cans mixed vegetables, drained, 1 recipe pastry for a 9 inch double crust pie, \\nCooking Instructions: 1. Boil or steam the chicken breasts until done. Dice.\\n2. Mix together undiluted soup, canned vegetables, and diced chicken. Pour mixture into pie shell, and cover with the second crust. Crimp the edges, and make slits in the top crust.\\n3. Bake at 375 degrees F (190 degrees C) for 45 minutes, or until crust is golden brown., '\n",
      "page_content='Recipe Name: Tasty Hand-Held Chicken Pot Pie Pockets, \\nIngredients: 2 skinless, boneless chicken breasts, cut into 1/2-inch cubes, 1 (14.5 ounce) can fat-free chicken broth, divided, 0.5 (16 ounce) package frozen mixed vegetables, 1 cup dehydrated onion flakes, 0.33333334326744 cup granulated garlic, 4 cloves garlic, minced, 1 packet dry chicken gravy mix, 0.5 teaspoon salt, 1 cup instant potato flakes, cooking spray, 2 (7.5 ounce) cans reduced-fat refrigerated biscuit dough (such as Pillsbury® Reduced Fat Crescents), 1 small egg, beaten, \\nCooking Instructions: 1. Place chicken in a large skillet over medium-high heat. Cover and cook, stirring halfway, until no longer pink in the center, 6 to 12 minutes.\\n2. Pour half the chicken broth into the skillet with the chicken. Add frozen vegetables, dehydrated onion, granulated garlic, minced garlic, gravy mix, and salt. Stir and cover; reduce heat to medium and cook until flavors meld, about 8 minutes. Add instant potatoes and stir until incorporated. Add remaining chicken broth and stir. Cover and reduce heat to low; cook until thickened to your liking, about 8 minutes more.\\n3. Remove skillet from heat and allow to cool, about 30 minutes. Pour into a container, cover, and refrigerate filling, 2 hours to overnight.\\n4. Preheat the oven to 325 degrees F (165 degrees C). Spray 2 baking sheets with cooking spray.\\n5. Open and unroll dough into one continuous sheet. Place on a prepared baking sheet. Pinch all seams together, sealing them. Stretch the dough to twice its size using a small rolling pin. Score the sheet into 8 squares using a knife. Repeat with the remaining dough on the other baking sheet.\\n6. Place 1 heaping tablespoon of filling into the center of a dough square. Pull the side up and over the mixture. Seal the edge carefully with your fingers and then using a fork. Repeat with remaining dough and filling.\\n7. Bake in the preheated oven, watching carefully until just starting to brown, about 13 minutes. Brush pies with beaten egg and cook until dried, about 2 minutes more. Allow to cool for a few minutes before eating., '\n"
     ]
    }
   ],
   "source": [
    "chicken_pot_pie = chroma_store.similarity_search(\"Chicken Pot Pie\", k=5)\n",
    "for doc in chicken_pot_pie:\n",
    "    print(doc)\n",
    "chicken_pot_pie = chicken_pot_pie[3].page_content"
   ]
  },
  {
   "cell_type": "code",
   "execution_count": 11,
   "metadata": {},
   "outputs": [
    {
     "name": "stdout",
     "output_type": "stream",
     "text": [
      "Recipe Name: Beef Pot Pie, \n",
      "Ingredients: 1 pound sirloin steak, cubed, salt and ground black pepper to taste, 1 (14 ounce) can beef broth, 3 large carrots, diced, 3 potatoes, cubed, 1 cup frozen green peas, thawed, 3 tablespoons cornstarch, 0.33333334326744 cup water, 2 (9 inch) refrigerator pie crusts, \n",
      "Cooking Instructions: 1. Gather all ingredients.\n",
      "2. Brown pieces of meat on all sides in a saucepan over medium heat. Pour in some water to almost cover. Bring to a boil and reduce heat. Simmer until meat is tender and falls apart easily; 2 to 3 hours.\n",
      "3. Transfer meat to a large mixing bowl. Shred the meat slightly and add salt and pepper to taste.\n",
      "4. Meanwhile, in another 2-quart saucepan over medium heat, pour in beef broth and add carrots and potatoes. Cook until almost tender; 15 to 20 minutes.\n",
      "5. Preheat the oven to 350 degrees F (175 degrees C).\n",
      "6. When carrots and potatoes are done, transfer to the large mixing bowl with the beef; leaving the liquid in the pan. Combine peas with carrots, potatoes, and beef.\n",
      "7. Dissolve cornstarch with 1/3 cup water. Pour into the saucepan with beef broth, stirring constantly. Bring to a simmer and reduce heat; cook for 5 minutes.\n",
      "8. Line a 9-inch pie plate with one of the pie crusts following the package directions. Place the beef mixture into the pie crust. Pour the gravy over the top of the mixture, then cover with the other pie crust.\n",
      "9. Bake in the preheated oven until the crust is golden brown; about 25 minutes. Let cool for 5 minutes before serving., \n"
     ]
    }
   ],
   "source": [
    "print(beef_pot_pie)"
   ]
  },
  {
   "cell_type": "code",
   "execution_count": 12,
   "metadata": {},
   "outputs": [
    {
     "name": "stdout",
     "output_type": "stream",
     "text": [
      "Recipe Name: Chicken Pot Pie I, \n",
      "Ingredients: 4 skinless, boneless chicken breast halves, 1 (10.75 ounce) can condensed cream of chicken soup, 2 (15 ounce) cans mixed vegetables, drained, 1 recipe pastry for a 9 inch double crust pie, \n",
      "Cooking Instructions: 1. Boil or steam the chicken breasts until done. Dice.\n",
      "2. Mix together undiluted soup, canned vegetables, and diced chicken. Pour mixture into pie shell, and cover with the second crust. Crimp the edges, and make slits in the top crust.\n",
      "3. Bake at 375 degrees F (190 degrees C) for 45 minutes, or until crust is golden brown., \n"
     ]
    }
   ],
   "source": [
    "print(chicken_pot_pie)"
   ]
  },
  {
   "cell_type": "markdown",
   "metadata": {},
   "source": [
    "### Few-shot examples\n",
    "\n",
    "The intermediate thought process is broken down into several steps:\n",
    "1. Identify the recipe steps that will need to be modified. For each step in order, follow this process:\n",
    "a. Isolate and identify the portion of the step to rewrite.\n",
    "b. Determine the new preparation method with respect to the new ingredient(s)\n",
    "2. After each step is individually modified, present the final rewritten recipe in a similar format to the base recipe. "
   ]
  },
  {
   "cell_type": "code",
   "execution_count": 13,
   "metadata": {},
   "outputs": [],
   "source": [
    "import time"
   ]
  },
  {
   "cell_type": "code",
   "execution_count": 17,
   "metadata": {},
   "outputs": [
    {
     "name": "stdout",
     "output_type": "stream",
     "text": [
      "Elapsed time: 39.86314535140991s\n",
      "To replace the chicken with beef in the recipe, we need to modify the ingredients and the instructions accordingly. Since beef is denser than chicken, we may need to adjust the cooking time as well.\n",
      "\n",
      "First, we need to substitute the chicken breast halves with an equal amount of beef. We can use beef strips or ground beef, depending on our preference. Let's assume we choose to use ground beef.\n",
      "\n",
      "Next, we need to adjust the cooking time. Beef takes longer to cook than chicken, so we may need to increase the baking time. Let's add an additional 10-15 minutes to the original baking time of 45 minutes.\n",
      "\n",
      "Finally, we need to update the instructions to reflect the changes in ingredients and cooking time. Instead of boiling or steaming the chicken, we will need to brown the beef in a pan before adding the other ingredients. We will also need to adjust the amount of liquid in the recipe to account for the difference in moisture content between chicken and beef.\n",
      "\n",
      "Here is the revised recipe:\n",
      "\n",
      "Recipe Name: Beef Pot Pie I, \n",
      "Ingredients: 1 pound ground beef, 2 (15 ounce) cans mixed vegetables, drained, 1 recipe pastry for a 9 inch double crust pie, \n",
      "Cooking Instructions: 1. Brown the ground beef in a pan over medium-high heat until it is fully cooked. Drain excess fat.\n",
      "2. Mix together the beef, canned vegetables, and undiluted soup. Pour mixture into pie shell, and cover with the second crust. Crimp the edges, and make slits in the top crust.\n",
      "3. Bake at 375 degrees F (190 degrees C) for 55-60 minutes, or until crust is golden brown and filling is hot and bubbly., \n",
      "\n",
      "By following these steps, we have successfully replaced the chicken with beef in the recipe while ensuring that the flavor and texture remain consistent.\n"
     ]
    }
   ],
   "source": [
    "template = f\"\"\"\n",
    "You are a helpful, respectful and honest assistant. Always answer as helpfully as possible.\n",
    "\n",
    "If a question does not make any sense, or is not factually coherent, explain why instead of answering something not correct. If you don't know the answer to a question, please don't share false information.\n",
    "\n",
    "### Instruction:\n",
    "Q. Answer the following question by reasoning step-by-step. Here is a recipe for beef stroganoff. Rewrite this recipe to make it vegetarian.\n",
    "{beef_recipe}\n",
    "\n",
    "A. To make the recipe vegetarian, the ingredients used to prepare the dish must not include meat. This means that the ground beef must be substituted for a vegetarian option, such as portobello mushrooms.\n",
    "Steps 1 and 4 directly mention ground beef, so these steps will need to be updated to reflect the change in ingredients. Step 1 should say to \"sauté mushroom and onions\" instead of \"sauté beef and onions\".\n",
    "Step 4 should be changed to mention the mushroom mixture instead of the beef mixture. The modified recipe will look like this:\n",
    "{mushroom_recipe}\n",
    "\n",
    "### Input:\n",
    "Q. Answer the following question by reasoning step-by-step. Here is a recipe for chicken pot pie. Rewrite this recipe to replace the chicken with beef.\n",
    "{chicken_pot_pie}\n",
    "\n",
    "### Response:\n",
    "\"\"\"\n",
    "start = time.time()\n",
    "test_result = llm(template)\n",
    "end = time.time()\n",
    "print(f'Elapsed time: {end-start}s')\n",
    "print(test_result)"
   ]
  },
  {
   "cell_type": "code",
   "execution_count": 18,
   "metadata": {},
   "outputs": [
    {
     "name": "stdout",
     "output_type": "stream",
     "text": [
      "Instant Pot Ground Beef and Vegetable Stew, \n",
      "Ingredients: 1 tablespoon butter, 1 pound ground beef, 4 Yukon Gold potatoes, cubed, 1.5 cups mushrooms, halved, 1 onion, cut into 6 wedges, 2 carrots, cut into 1/2-inch thick slices, 2 cloves garlic, minced, 3 cups beef broth, 1 tablespoon Worcestershire sauce, 1 tablespoon tomato paste, 1 teaspoon salt, 0.5 teaspoon ground black pepper, 0.5 teaspoon dried thyme, \n",
      "Cooking Instructions: 1. Gather all ingredients.\n",
      "2. Turn on a multi-functional pressure cooker (such as Instant Pot) and select the Sauté function. Melt butter in the pot. Cook ground beef until browned, breaking it up into small pieces as it cooks.\n",
      "3. Add potatoes, mushrooms, onion, carrots, and garlic; cover with beef broth. Stir in Worcestershire sauce, tomato paste, salt, pepper, and thyme.\n",
      "4. Close and lock the lid. Select Meat/Stew function, according to the manufacturer's instructions; set the timer for 35 minutes. Allow 10 to 15 minutes for pressure to build.\n",
      "5. Release pressure using the natural-release method, according to the manufacturer's instructions, 10 to 40 minutes. Unlock and remove the lid., \n",
      "\n",
      "Note: This recipe replaces chicken with ground beef in the original recipe \"Chicken Pot Pie I\". The cooking time may vary depending on the strength of your pressure cooker.\n"
     ]
    }
   ],
   "source": [
    "template = f\"\"\"\n",
    "You are a helpful, respectful and honest cooking assistant. Always answer as helpfully as possible. Your job is to create a new recipe based on the user's instructions. You will \n",
    "be given an original recipe and a request from the user to customize the recipe. To help you customize the recipe, several example recipes will be provided based on the user's request.\n",
    "\n",
    "If a question does not make any sense, or is not factually coherent, explain why instead of answering something not correct. If you don't know the answer to a question, please don't share false information.\n",
    "Use the following pieces of context to answer the question at the end. If you don't know the answer, just say that you don't know, don't try to make up an answer.\n",
    "### Example Recipe:\n",
    "{beef_stew}\n",
    "\n",
    "### Input:\n",
    "User Request: Replace chicken for ground beef in the following recipe. Please provide your answer in the form of an informative cooking recipe.\n",
    "Original Recipe: {chicken_pot_pie}\n",
    "\n",
    "### Response:\n",
    "Recipe Name:\n",
    "\"\"\"\n",
    "\n",
    "test_result = llm(template)\n",
    "print(test_result)"
   ]
  }
 ],
 "metadata": {
  "kernelspec": {
   "display_name": "langchain",
   "language": "python",
   "name": "python3"
  },
  "language_info": {
   "codemirror_mode": {
    "name": "ipython",
    "version": 3
   },
   "file_extension": ".py",
   "mimetype": "text/x-python",
   "name": "python",
   "nbconvert_exporter": "python",
   "pygments_lexer": "ipython3",
   "version": "3.11.6"
  },
  "orig_nbformat": 4
 },
 "nbformat": 4,
 "nbformat_minor": 2
}
